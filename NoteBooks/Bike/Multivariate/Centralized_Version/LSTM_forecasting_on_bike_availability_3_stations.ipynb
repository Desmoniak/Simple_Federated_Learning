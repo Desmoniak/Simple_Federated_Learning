{
 "cells": [
  {
   "cell_type": "markdown",
   "metadata": {},
   "source": [
    "## Import"
   ]
  },
  {
   "cell_type": "code",
   "execution_count": 3,
   "metadata": {
    "scrolled": true
   },
   "outputs": [],
   "source": [
    "import pandas as pd\n",
    "import matplotlib.pyplot as plt\n",
    "import numpy as np\n",
    "from torch.utils.data import Dataset\n",
    "import torch"
   ]
  },
  {
   "cell_type": "code",
   "execution_count": 4,
   "metadata": {},
   "outputs": [],
   "source": [
    "# https://www.kaggle.com/datasets/benhamner/sf-bay-area-bike-share?select=status.csv\n",
    "dataset_station_statut = pd.read_csv(\"../../../../Bike_Data/status.csv\")\n",
    "dataset_station = pd.read_csv(\"../../../../Bike_Data/station.csv\")"
   ]
  },
  {
   "cell_type": "code",
   "execution_count": 5,
   "metadata": {},
   "outputs": [],
   "source": [
    "def mean_variation_over_time_interval(df, interval):\n",
    "    print(f'{interval} min')\n",
    "    # Convert the dataframe index to a datetime index\n",
    "    df.index = pd.to_datetime(df.index)\n",
    "    \n",
    "    # Calculate the time difference between each row\n",
    "    time_diff = df.index.to_series().diff().dt.total_seconds() / 60\n",
    "    \n",
    "    # Calculate the number of rows to group by based on the interval\n",
    "    group_size = int(interval / time_diff.mean())\n",
    "    \n",
    "    # Calculate the mean of each group and the variation from the first value\n",
    "    mean_variations = df.groupby(pd.Grouper(freq=f\"{interval}T\")).mean().diff().abs().mean()\n",
    "    \n",
    "    return mean_variations\n"
   ]
  },
  {
   "cell_type": "markdown",
   "metadata": {},
   "source": [
    "## Class TimeSeriesDataset"
   ]
  },
  {
   "cell_type": "code",
   "execution_count": 6,
   "metadata": {},
   "outputs": [],
   "source": [
    "# Define a PyTorch dataset to generate input/target pairs for the LSTM model\n",
    "class TimeSeriesDataset(Dataset):\n",
    "    def __init__(self, data, window_size, stride, target_size=1, drop=None):\n",
    "        self.data = data\n",
    "        self.window_size = window_size\n",
    "        self.stride = stride\n",
    "        self.target_size = target_size\n",
    "        self.drop = drop\n",
    "\n",
    "    def __len__(self):\n",
    "        return len(self.data) - self.window_size\n",
    "\n",
    "    def __getitem__(self, idx):\n",
    "        inputs = self.data[idx:idx+self.window_size]\n",
    "        target = self.data[idx+self.window_size:idx+self.window_size+self.target_size]\n",
    "        if self.drop is not None:\n",
    "            target = np.delete(target, self.drop, axis=1)\n",
    "        return inputs, target"
   ]
  },
  {
   "cell_type": "markdown",
   "metadata": {},
   "source": [
    "## Class LSTM v1"
   ]
  },
  {
   "cell_type": "code",
   "execution_count": 7,
   "metadata": {},
   "outputs": [],
   "source": [
    "# Define your LSTM model here with num_layers LSTM layers and 1 fully connected layer\n",
    "class LSTMModel_v1(torch.nn.Module):\n",
    "    def __init__(self, input_size, hidden_size, num_layers, output_size):\n",
    "        super().__init__()\n",
    "        self.hidden_size = hidden_size\n",
    "        self.num_layers = num_layers\n",
    "        \n",
    "        self.lstm = torch.nn.LSTM(input_size, self.hidden_size, self.num_layers, batch_first=True)\n",
    "        self.fc = torch.nn.Linear(self.hidden_size, output_size)\n",
    "\n",
    "    def forward(self, x):\n",
    "        out, _ = self.lstm(x)\n",
    "        out = self.fc(out[:, -1, :])\n",
    "        return out"
   ]
  },
  {
   "cell_type": "markdown",
   "metadata": {},
   "source": [
    "## Station statut dataset"
   ]
  },
  {
   "cell_type": "markdown",
   "metadata": {},
   "source": [
    "## Station dataset"
   ]
  },
  {
   "cell_type": "code",
   "execution_count": 8,
   "metadata": {
    "scrolled": true
   },
   "outputs": [
    {
     "data": {
      "text/html": [
       "<div>\n",
       "<style scoped>\n",
       "    .dataframe tbody tr th:only-of-type {\n",
       "        vertical-align: middle;\n",
       "    }\n",
       "\n",
       "    .dataframe tbody tr th {\n",
       "        vertical-align: top;\n",
       "    }\n",
       "\n",
       "    .dataframe thead th {\n",
       "        text-align: right;\n",
       "    }\n",
       "</style>\n",
       "<table border=\"1\" class=\"dataframe\">\n",
       "  <thead>\n",
       "    <tr style=\"text-align: right;\">\n",
       "      <th></th>\n",
       "      <th>id</th>\n",
       "      <th>name</th>\n",
       "      <th>lat</th>\n",
       "      <th>long</th>\n",
       "      <th>dock_count</th>\n",
       "      <th>city</th>\n",
       "      <th>installation_date</th>\n",
       "    </tr>\n",
       "  </thead>\n",
       "  <tbody>\n",
       "    <tr>\n",
       "      <th>0</th>\n",
       "      <td>2</td>\n",
       "      <td>San Jose Diridon Caltrain Station</td>\n",
       "      <td>37.329732</td>\n",
       "      <td>-121.901782</td>\n",
       "      <td>27</td>\n",
       "      <td>San Jose</td>\n",
       "      <td>8/6/2013</td>\n",
       "    </tr>\n",
       "    <tr>\n",
       "      <th>1</th>\n",
       "      <td>3</td>\n",
       "      <td>San Jose Civic Center</td>\n",
       "      <td>37.330698</td>\n",
       "      <td>-121.888979</td>\n",
       "      <td>15</td>\n",
       "      <td>San Jose</td>\n",
       "      <td>8/5/2013</td>\n",
       "    </tr>\n",
       "    <tr>\n",
       "      <th>2</th>\n",
       "      <td>4</td>\n",
       "      <td>Santa Clara at Almaden</td>\n",
       "      <td>37.333988</td>\n",
       "      <td>-121.894902</td>\n",
       "      <td>11</td>\n",
       "      <td>San Jose</td>\n",
       "      <td>8/6/2013</td>\n",
       "    </tr>\n",
       "  </tbody>\n",
       "</table>\n",
       "</div>"
      ],
      "text/plain": [
       "   id                               name        lat        long  dock_count   \n",
       "0   2  San Jose Diridon Caltrain Station  37.329732 -121.901782          27  \\\n",
       "1   3              San Jose Civic Center  37.330698 -121.888979          15   \n",
       "2   4             Santa Clara at Almaden  37.333988 -121.894902          11   \n",
       "\n",
       "       city installation_date  \n",
       "0  San Jose          8/6/2013  \n",
       "1  San Jose          8/5/2013  \n",
       "2  San Jose          8/6/2013  "
      ]
     },
     "execution_count": 8,
     "metadata": {},
     "output_type": "execute_result"
    }
   ],
   "source": [
    "dataset_station.head(3)"
   ]
  },
  {
   "cell_type": "code",
   "execution_count": 9,
   "metadata": {},
   "outputs": [
    {
     "data": {
      "text/plain": [
       "(70, 7)"
      ]
     },
     "execution_count": 9,
     "metadata": {},
     "output_type": "execute_result"
    }
   ],
   "source": [
    "dataset_station.shape"
   ]
  },
  {
   "cell_type": "markdown",
   "metadata": {},
   "source": [
    "## Merge dataset Station statut and Station"
   ]
  },
  {
   "cell_type": "code",
   "execution_count": 10,
   "metadata": {},
   "outputs": [],
   "source": [
    "dataset = pd.merge(dataset_station, dataset_station_statut, left_on='id', right_on='station_id')"
   ]
  },
  {
   "cell_type": "code",
   "execution_count": 11,
   "metadata": {},
   "outputs": [
    {
     "data": {
      "text/html": [
       "<div>\n",
       "<style scoped>\n",
       "    .dataframe tbody tr th:only-of-type {\n",
       "        vertical-align: middle;\n",
       "    }\n",
       "\n",
       "    .dataframe tbody tr th {\n",
       "        vertical-align: top;\n",
       "    }\n",
       "\n",
       "    .dataframe thead th {\n",
       "        text-align: right;\n",
       "    }\n",
       "</style>\n",
       "<table border=\"1\" class=\"dataframe\">\n",
       "  <thead>\n",
       "    <tr style=\"text-align: right;\">\n",
       "      <th></th>\n",
       "      <th>id</th>\n",
       "      <th>name</th>\n",
       "      <th>lat</th>\n",
       "      <th>long</th>\n",
       "      <th>dock_count</th>\n",
       "      <th>city</th>\n",
       "      <th>installation_date</th>\n",
       "      <th>station_id</th>\n",
       "      <th>bikes_available</th>\n",
       "      <th>docks_available</th>\n",
       "      <th>time</th>\n",
       "    </tr>\n",
       "  </thead>\n",
       "  <tbody>\n",
       "    <tr>\n",
       "      <th>0</th>\n",
       "      <td>2</td>\n",
       "      <td>San Jose Diridon Caltrain Station</td>\n",
       "      <td>37.329732</td>\n",
       "      <td>-121.901782</td>\n",
       "      <td>27</td>\n",
       "      <td>San Jose</td>\n",
       "      <td>8/6/2013</td>\n",
       "      <td>2</td>\n",
       "      <td>2</td>\n",
       "      <td>25</td>\n",
       "      <td>2013/08/29 12:06:01</td>\n",
       "    </tr>\n",
       "    <tr>\n",
       "      <th>1</th>\n",
       "      <td>2</td>\n",
       "      <td>San Jose Diridon Caltrain Station</td>\n",
       "      <td>37.329732</td>\n",
       "      <td>-121.901782</td>\n",
       "      <td>27</td>\n",
       "      <td>San Jose</td>\n",
       "      <td>8/6/2013</td>\n",
       "      <td>2</td>\n",
       "      <td>2</td>\n",
       "      <td>25</td>\n",
       "      <td>2013/08/29 12:07:01</td>\n",
       "    </tr>\n",
       "    <tr>\n",
       "      <th>2</th>\n",
       "      <td>2</td>\n",
       "      <td>San Jose Diridon Caltrain Station</td>\n",
       "      <td>37.329732</td>\n",
       "      <td>-121.901782</td>\n",
       "      <td>27</td>\n",
       "      <td>San Jose</td>\n",
       "      <td>8/6/2013</td>\n",
       "      <td>2</td>\n",
       "      <td>2</td>\n",
       "      <td>25</td>\n",
       "      <td>2013/08/29 12:08:01</td>\n",
       "    </tr>\n",
       "  </tbody>\n",
       "</table>\n",
       "</div>"
      ],
      "text/plain": [
       "   id                               name        lat        long  dock_count   \n",
       "0   2  San Jose Diridon Caltrain Station  37.329732 -121.901782          27  \\\n",
       "1   2  San Jose Diridon Caltrain Station  37.329732 -121.901782          27   \n",
       "2   2  San Jose Diridon Caltrain Station  37.329732 -121.901782          27   \n",
       "\n",
       "       city installation_date  station_id  bikes_available  docks_available   \n",
       "0  San Jose          8/6/2013           2                2               25  \\\n",
       "1  San Jose          8/6/2013           2                2               25   \n",
       "2  San Jose          8/6/2013           2                2               25   \n",
       "\n",
       "                  time  \n",
       "0  2013/08/29 12:06:01  \n",
       "1  2013/08/29 12:07:01  \n",
       "2  2013/08/29 12:08:01  "
      ]
     },
     "execution_count": 11,
     "metadata": {},
     "output_type": "execute_result"
    }
   ],
   "source": [
    "dataset.head(3)"
   ]
  },
  {
   "cell_type": "code",
   "execution_count": 12,
   "metadata": {},
   "outputs": [
    {
     "data": {
      "text/plain": [
       "(71984434, 11)"
      ]
     },
     "execution_count": 12,
     "metadata": {},
     "output_type": "execute_result"
    }
   ],
   "source": [
    "dataset.shape"
   ]
  },
  {
   "attachments": {},
   "cell_type": "markdown",
   "metadata": {},
   "source": [
    "# 1/ (Mulivariate) Selection three station to make prediction"
   ]
  },
  {
   "cell_type": "markdown",
   "metadata": {},
   "source": [
    "### All id station available"
   ]
  },
  {
   "cell_type": "code",
   "execution_count": 13,
   "metadata": {},
   "outputs": [
    {
     "name": "stdout",
     "output_type": "stream",
     "text": [
      "[ 2  3  4  5  6  7  8  9 10 11 12 13 14 16 21 22 23 24 25 26 27 28 29 30\n",
      " 31 32 33 34 35 36 37 38 41 42 45 46 47 48 49 50 51 39 54 55 56 57 58 59\n",
      " 60 61 62 63 64 65 66 67 68 69 70 71 72 73 74 75 76 77 80 82 83 84]\n",
      "70\n"
     ]
    }
   ],
   "source": [
    "print(dataset['id'].unique())\n",
    "print(len(dataset['id'].unique()))"
   ]
  },
  {
   "cell_type": "code",
   "execution_count": 14,
   "metadata": {},
   "outputs": [],
   "source": [
    "dataset_station_id = dataset.loc[dataset['id'].isin([42, 70, 60])]"
   ]
  },
  {
   "cell_type": "code",
   "execution_count": 15,
   "metadata": {},
   "outputs": [
    {
     "name": "stdout",
     "output_type": "stream",
     "text": [
      "[15 19]\n"
     ]
    }
   ],
   "source": [
    "dock_count = dataset_station_id['dock_count'].unique()\n",
    "print(dock_count)"
   ]
  },
  {
   "cell_type": "code",
   "execution_count": 16,
   "metadata": {},
   "outputs": [
    {
     "data": {
      "text/plain": [
       "(3141422, 11)"
      ]
     },
     "execution_count": 16,
     "metadata": {},
     "output_type": "execute_result"
    }
   ],
   "source": [
    "dataset_station_id.shape"
   ]
  },
  {
   "cell_type": "code",
   "execution_count": 17,
   "metadata": {},
   "outputs": [
    {
     "data": {
      "text/html": [
       "<div>\n",
       "<style scoped>\n",
       "    .dataframe tbody tr th:only-of-type {\n",
       "        vertical-align: middle;\n",
       "    }\n",
       "\n",
       "    .dataframe tbody tr th {\n",
       "        vertical-align: top;\n",
       "    }\n",
       "\n",
       "    .dataframe thead th {\n",
       "        text-align: right;\n",
       "    }\n",
       "</style>\n",
       "<table border=\"1\" class=\"dataframe\">\n",
       "  <thead>\n",
       "    <tr style=\"text-align: right;\">\n",
       "      <th></th>\n",
       "      <th>id</th>\n",
       "      <th>name</th>\n",
       "      <th>lat</th>\n",
       "      <th>long</th>\n",
       "      <th>dock_count</th>\n",
       "      <th>city</th>\n",
       "      <th>installation_date</th>\n",
       "      <th>station_id</th>\n",
       "      <th>bikes_available</th>\n",
       "      <th>docks_available</th>\n",
       "      <th>time</th>\n",
       "    </tr>\n",
       "  </thead>\n",
       "  <tbody>\n",
       "    <tr>\n",
       "      <th>34204912</th>\n",
       "      <td>42</td>\n",
       "      <td>Davis at Jackson</td>\n",
       "      <td>37.79728</td>\n",
       "      <td>-122.398436</td>\n",
       "      <td>15</td>\n",
       "      <td>San Francisco</td>\n",
       "      <td>8/19/2013</td>\n",
       "      <td>42</td>\n",
       "      <td>7</td>\n",
       "      <td>8</td>\n",
       "      <td>2013/08/29 12:06:01</td>\n",
       "    </tr>\n",
       "    <tr>\n",
       "      <th>34204913</th>\n",
       "      <td>42</td>\n",
       "      <td>Davis at Jackson</td>\n",
       "      <td>37.79728</td>\n",
       "      <td>-122.398436</td>\n",
       "      <td>15</td>\n",
       "      <td>San Francisco</td>\n",
       "      <td>8/19/2013</td>\n",
       "      <td>42</td>\n",
       "      <td>7</td>\n",
       "      <td>8</td>\n",
       "      <td>2013/08/29 12:07:01</td>\n",
       "    </tr>\n",
       "    <tr>\n",
       "      <th>34204914</th>\n",
       "      <td>42</td>\n",
       "      <td>Davis at Jackson</td>\n",
       "      <td>37.79728</td>\n",
       "      <td>-122.398436</td>\n",
       "      <td>15</td>\n",
       "      <td>San Francisco</td>\n",
       "      <td>8/19/2013</td>\n",
       "      <td>42</td>\n",
       "      <td>7</td>\n",
       "      <td>8</td>\n",
       "      <td>2013/08/29 12:08:01</td>\n",
       "    </tr>\n",
       "  </tbody>\n",
       "</table>\n",
       "</div>"
      ],
      "text/plain": [
       "          id              name       lat        long  dock_count   \n",
       "34204912  42  Davis at Jackson  37.79728 -122.398436          15  \\\n",
       "34204913  42  Davis at Jackson  37.79728 -122.398436          15   \n",
       "34204914  42  Davis at Jackson  37.79728 -122.398436          15   \n",
       "\n",
       "                   city installation_date  station_id  bikes_available   \n",
       "34204912  San Francisco         8/19/2013          42                7  \\\n",
       "34204913  San Francisco         8/19/2013          42                7   \n",
       "34204914  San Francisco         8/19/2013          42                7   \n",
       "\n",
       "          docks_available                 time  \n",
       "34204912                8  2013/08/29 12:06:01  \n",
       "34204913                8  2013/08/29 12:07:01  \n",
       "34204914                8  2013/08/29 12:08:01  "
      ]
     },
     "execution_count": 17,
     "metadata": {},
     "output_type": "execute_result"
    }
   ],
   "source": [
    "dataset_station_id.head(3)"
   ]
  },
  {
   "cell_type": "code",
   "execution_count": 18,
   "metadata": {},
   "outputs": [
    {
     "data": {
      "text/html": [
       "<div>\n",
       "<style scoped>\n",
       "    .dataframe tbody tr th:only-of-type {\n",
       "        vertical-align: middle;\n",
       "    }\n",
       "\n",
       "    .dataframe tbody tr th {\n",
       "        vertical-align: top;\n",
       "    }\n",
       "\n",
       "    .dataframe thead th {\n",
       "        text-align: right;\n",
       "    }\n",
       "</style>\n",
       "<table border=\"1\" class=\"dataframe\">\n",
       "  <thead>\n",
       "    <tr style=\"text-align: right;\">\n",
       "      <th></th>\n",
       "      <th>id</th>\n",
       "      <th>name</th>\n",
       "      <th>lat</th>\n",
       "      <th>long</th>\n",
       "      <th>dock_count</th>\n",
       "      <th>city</th>\n",
       "      <th>installation_date</th>\n",
       "      <th>station_id</th>\n",
       "      <th>bikes_available</th>\n",
       "      <th>docks_available</th>\n",
       "      <th>time</th>\n",
       "    </tr>\n",
       "  </thead>\n",
       "  <tbody>\n",
       "    <tr>\n",
       "      <th>61417384</th>\n",
       "      <td>70</td>\n",
       "      <td>San Francisco Caltrain (Townsend at 4th)</td>\n",
       "      <td>37.776617</td>\n",
       "      <td>-122.39526</td>\n",
       "      <td>19</td>\n",
       "      <td>San Francisco</td>\n",
       "      <td>8/23/2013</td>\n",
       "      <td>70</td>\n",
       "      <td>15</td>\n",
       "      <td>4</td>\n",
       "      <td>2015-08-31 23:55:02</td>\n",
       "    </tr>\n",
       "    <tr>\n",
       "      <th>61417385</th>\n",
       "      <td>70</td>\n",
       "      <td>San Francisco Caltrain (Townsend at 4th)</td>\n",
       "      <td>37.776617</td>\n",
       "      <td>-122.39526</td>\n",
       "      <td>19</td>\n",
       "      <td>San Francisco</td>\n",
       "      <td>8/23/2013</td>\n",
       "      <td>70</td>\n",
       "      <td>15</td>\n",
       "      <td>4</td>\n",
       "      <td>2015-08-31 23:56:01</td>\n",
       "    </tr>\n",
       "    <tr>\n",
       "      <th>61417386</th>\n",
       "      <td>70</td>\n",
       "      <td>San Francisco Caltrain (Townsend at 4th)</td>\n",
       "      <td>37.776617</td>\n",
       "      <td>-122.39526</td>\n",
       "      <td>19</td>\n",
       "      <td>San Francisco</td>\n",
       "      <td>8/23/2013</td>\n",
       "      <td>70</td>\n",
       "      <td>15</td>\n",
       "      <td>4</td>\n",
       "      <td>2015-08-31 23:57:02</td>\n",
       "    </tr>\n",
       "    <tr>\n",
       "      <th>61417387</th>\n",
       "      <td>70</td>\n",
       "      <td>San Francisco Caltrain (Townsend at 4th)</td>\n",
       "      <td>37.776617</td>\n",
       "      <td>-122.39526</td>\n",
       "      <td>19</td>\n",
       "      <td>San Francisco</td>\n",
       "      <td>8/23/2013</td>\n",
       "      <td>70</td>\n",
       "      <td>15</td>\n",
       "      <td>4</td>\n",
       "      <td>2015-08-31 23:58:02</td>\n",
       "    </tr>\n",
       "    <tr>\n",
       "      <th>61417388</th>\n",
       "      <td>70</td>\n",
       "      <td>San Francisco Caltrain (Townsend at 4th)</td>\n",
       "      <td>37.776617</td>\n",
       "      <td>-122.39526</td>\n",
       "      <td>19</td>\n",
       "      <td>San Francisco</td>\n",
       "      <td>8/23/2013</td>\n",
       "      <td>70</td>\n",
       "      <td>15</td>\n",
       "      <td>4</td>\n",
       "      <td>2015-08-31 23:59:02</td>\n",
       "    </tr>\n",
       "  </tbody>\n",
       "</table>\n",
       "</div>"
      ],
      "text/plain": [
       "          id                                      name        lat       long   \n",
       "61417384  70  San Francisco Caltrain (Townsend at 4th)  37.776617 -122.39526  \\\n",
       "61417385  70  San Francisco Caltrain (Townsend at 4th)  37.776617 -122.39526   \n",
       "61417386  70  San Francisco Caltrain (Townsend at 4th)  37.776617 -122.39526   \n",
       "61417387  70  San Francisco Caltrain (Townsend at 4th)  37.776617 -122.39526   \n",
       "61417388  70  San Francisco Caltrain (Townsend at 4th)  37.776617 -122.39526   \n",
       "\n",
       "          dock_count           city installation_date  station_id   \n",
       "61417384          19  San Francisco         8/23/2013          70  \\\n",
       "61417385          19  San Francisco         8/23/2013          70   \n",
       "61417386          19  San Francisco         8/23/2013          70   \n",
       "61417387          19  San Francisco         8/23/2013          70   \n",
       "61417388          19  San Francisco         8/23/2013          70   \n",
       "\n",
       "          bikes_available  docks_available                 time  \n",
       "61417384               15                4  2015-08-31 23:55:02  \n",
       "61417385               15                4  2015-08-31 23:56:01  \n",
       "61417386               15                4  2015-08-31 23:57:02  \n",
       "61417387               15                4  2015-08-31 23:58:02  \n",
       "61417388               15                4  2015-08-31 23:59:02  "
      ]
     },
     "execution_count": 18,
     "metadata": {},
     "output_type": "execute_result"
    }
   ],
   "source": [
    "dataset_station_id.tail(5)"
   ]
  },
  {
   "cell_type": "markdown",
   "metadata": {},
   "source": [
    "### Drop columns"
   ]
  },
  {
   "cell_type": "code",
   "execution_count": 19,
   "metadata": {},
   "outputs": [],
   "source": [
    "dataset_station_id_transform = dataset_station_id.drop([\"name\", 'lat', 'long', 'id', 'city', 'installation_date', \"docks_available\", \"dock_count\"], axis=1)"
   ]
  },
  {
   "cell_type": "code",
   "execution_count": 20,
   "metadata": {},
   "outputs": [
    {
     "data": {
      "text/html": [
       "<div>\n",
       "<style scoped>\n",
       "    .dataframe tbody tr th:only-of-type {\n",
       "        vertical-align: middle;\n",
       "    }\n",
       "\n",
       "    .dataframe tbody tr th {\n",
       "        vertical-align: top;\n",
       "    }\n",
       "\n",
       "    .dataframe thead th {\n",
       "        text-align: right;\n",
       "    }\n",
       "</style>\n",
       "<table border=\"1\" class=\"dataframe\">\n",
       "  <thead>\n",
       "    <tr style=\"text-align: right;\">\n",
       "      <th></th>\n",
       "      <th>station_id</th>\n",
       "      <th>bikes_available</th>\n",
       "      <th>time</th>\n",
       "    </tr>\n",
       "  </thead>\n",
       "  <tbody>\n",
       "    <tr>\n",
       "      <th>34204912</th>\n",
       "      <td>42</td>\n",
       "      <td>7</td>\n",
       "      <td>2013/08/29 12:06:01</td>\n",
       "    </tr>\n",
       "    <tr>\n",
       "      <th>34204913</th>\n",
       "      <td>42</td>\n",
       "      <td>7</td>\n",
       "      <td>2013/08/29 12:07:01</td>\n",
       "    </tr>\n",
       "    <tr>\n",
       "      <th>34204914</th>\n",
       "      <td>42</td>\n",
       "      <td>7</td>\n",
       "      <td>2013/08/29 12:08:01</td>\n",
       "    </tr>\n",
       "  </tbody>\n",
       "</table>\n",
       "</div>"
      ],
      "text/plain": [
       "          station_id  bikes_available                 time\n",
       "34204912          42                7  2013/08/29 12:06:01\n",
       "34204913          42                7  2013/08/29 12:07:01\n",
       "34204914          42                7  2013/08/29 12:08:01"
      ]
     },
     "execution_count": 20,
     "metadata": {},
     "output_type": "execute_result"
    }
   ],
   "source": [
    "dataset_station_id_transform.head(3)"
   ]
  },
  {
   "cell_type": "markdown",
   "metadata": {},
   "source": [
    "### Check presence of null and NaN values"
   ]
  },
  {
   "cell_type": "code",
   "execution_count": 21,
   "metadata": {},
   "outputs": [
    {
     "data": {
      "text/plain": [
       "station_id         0\n",
       "bikes_available    0\n",
       "time               0\n",
       "dtype: int64"
      ]
     },
     "execution_count": 21,
     "metadata": {},
     "output_type": "execute_result"
    }
   ],
   "source": [
    "dataset_station_id_transform.isna().sum()"
   ]
  },
  {
   "cell_type": "code",
   "execution_count": 22,
   "metadata": {},
   "outputs": [
    {
     "data": {
      "text/html": [
       "<div>\n",
       "<style scoped>\n",
       "    .dataframe tbody tr th:only-of-type {\n",
       "        vertical-align: middle;\n",
       "    }\n",
       "\n",
       "    .dataframe tbody tr th {\n",
       "        vertical-align: top;\n",
       "    }\n",
       "\n",
       "    .dataframe thead th {\n",
       "        text-align: right;\n",
       "    }\n",
       "</style>\n",
       "<table border=\"1\" class=\"dataframe\">\n",
       "  <thead>\n",
       "    <tr style=\"text-align: right;\">\n",
       "      <th></th>\n",
       "      <th>station_id</th>\n",
       "      <th>bikes_available</th>\n",
       "      <th>time</th>\n",
       "    </tr>\n",
       "  </thead>\n",
       "  <tbody>\n",
       "  </tbody>\n",
       "</table>\n",
       "</div>"
      ],
      "text/plain": [
       "Empty DataFrame\n",
       "Columns: [station_id, bikes_available, time]\n",
       "Index: []"
      ]
     },
     "execution_count": 22,
     "metadata": {},
     "output_type": "execute_result"
    }
   ],
   "source": [
    "dataset_station_id_transform[dataset_station_id_transform.isna().any(axis=1)]"
   ]
  },
  {
   "cell_type": "code",
   "execution_count": 23,
   "metadata": {},
   "outputs": [
    {
     "data": {
      "text/plain": [
       "station_id          int64\n",
       "bikes_available     int64\n",
       "time               object\n",
       "dtype: object"
      ]
     },
     "execution_count": 23,
     "metadata": {},
     "output_type": "execute_result"
    }
   ],
   "source": [
    "dataset_station_id_transform.dtypes"
   ]
  },
  {
   "cell_type": "markdown",
   "metadata": {},
   "source": [
    "### Conversion column time to datetime"
   ]
  },
  {
   "cell_type": "code",
   "execution_count": 24,
   "metadata": {},
   "outputs": [],
   "source": [
    "dataset_station_id_transform['time'] = pd.to_datetime(dataset_station_id_transform['time'], format=\"mixed\")"
   ]
  },
  {
   "cell_type": "code",
   "execution_count": 25,
   "metadata": {
    "scrolled": false
   },
   "outputs": [
    {
     "data": {
      "text/plain": [
       "station_id                  int64\n",
       "bikes_available             int64\n",
       "time               datetime64[ns]\n",
       "dtype: object"
      ]
     },
     "execution_count": 25,
     "metadata": {},
     "output_type": "execute_result"
    }
   ],
   "source": [
    "dataset_station_id_transform.dtypes"
   ]
  },
  {
   "cell_type": "code",
   "execution_count": 26,
   "metadata": {},
   "outputs": [
    {
     "data": {
      "text/html": [
       "<div>\n",
       "<style scoped>\n",
       "    .dataframe tbody tr th:only-of-type {\n",
       "        vertical-align: middle;\n",
       "    }\n",
       "\n",
       "    .dataframe tbody tr th {\n",
       "        vertical-align: top;\n",
       "    }\n",
       "\n",
       "    .dataframe thead th {\n",
       "        text-align: right;\n",
       "    }\n",
       "</style>\n",
       "<table border=\"1\" class=\"dataframe\">\n",
       "  <thead>\n",
       "    <tr style=\"text-align: right;\">\n",
       "      <th></th>\n",
       "      <th>station_id</th>\n",
       "      <th>bikes_available</th>\n",
       "      <th>time</th>\n",
       "    </tr>\n",
       "  </thead>\n",
       "  <tbody>\n",
       "    <tr>\n",
       "      <th>34204912</th>\n",
       "      <td>42</td>\n",
       "      <td>7</td>\n",
       "      <td>2013-08-29 12:06:01</td>\n",
       "    </tr>\n",
       "    <tr>\n",
       "      <th>34204913</th>\n",
       "      <td>42</td>\n",
       "      <td>7</td>\n",
       "      <td>2013-08-29 12:07:01</td>\n",
       "    </tr>\n",
       "    <tr>\n",
       "      <th>34204914</th>\n",
       "      <td>42</td>\n",
       "      <td>7</td>\n",
       "      <td>2013-08-29 12:08:01</td>\n",
       "    </tr>\n",
       "    <tr>\n",
       "      <th>34204915</th>\n",
       "      <td>42</td>\n",
       "      <td>7</td>\n",
       "      <td>2013-08-29 12:09:01</td>\n",
       "    </tr>\n",
       "    <tr>\n",
       "      <th>34204916</th>\n",
       "      <td>42</td>\n",
       "      <td>7</td>\n",
       "      <td>2013-08-29 12:10:01</td>\n",
       "    </tr>\n",
       "    <tr>\n",
       "      <th>34204917</th>\n",
       "      <td>42</td>\n",
       "      <td>7</td>\n",
       "      <td>2013-08-29 12:11:01</td>\n",
       "    </tr>\n",
       "    <tr>\n",
       "      <th>34204918</th>\n",
       "      <td>42</td>\n",
       "      <td>7</td>\n",
       "      <td>2013-08-29 12:12:01</td>\n",
       "    </tr>\n",
       "    <tr>\n",
       "      <th>34204919</th>\n",
       "      <td>42</td>\n",
       "      <td>7</td>\n",
       "      <td>2013-08-29 12:13:01</td>\n",
       "    </tr>\n",
       "    <tr>\n",
       "      <th>34204920</th>\n",
       "      <td>42</td>\n",
       "      <td>7</td>\n",
       "      <td>2013-08-29 12:15:01</td>\n",
       "    </tr>\n",
       "    <tr>\n",
       "      <th>34204921</th>\n",
       "      <td>42</td>\n",
       "      <td>7</td>\n",
       "      <td>2013-08-29 12:16:02</td>\n",
       "    </tr>\n",
       "  </tbody>\n",
       "</table>\n",
       "</div>"
      ],
      "text/plain": [
       "          station_id  bikes_available                time\n",
       "34204912          42                7 2013-08-29 12:06:01\n",
       "34204913          42                7 2013-08-29 12:07:01\n",
       "34204914          42                7 2013-08-29 12:08:01\n",
       "34204915          42                7 2013-08-29 12:09:01\n",
       "34204916          42                7 2013-08-29 12:10:01\n",
       "34204917          42                7 2013-08-29 12:11:01\n",
       "34204918          42                7 2013-08-29 12:12:01\n",
       "34204919          42                7 2013-08-29 12:13:01\n",
       "34204920          42                7 2013-08-29 12:15:01\n",
       "34204921          42                7 2013-08-29 12:16:02"
      ]
     },
     "execution_count": 26,
     "metadata": {},
     "output_type": "execute_result"
    }
   ],
   "source": [
    "dataset_station_id_transform.head(10)"
   ]
  },
  {
   "cell_type": "code",
   "execution_count": 27,
   "metadata": {},
   "outputs": [
    {
     "data": {
      "text/html": [
       "<div>\n",
       "<style scoped>\n",
       "    .dataframe tbody tr th:only-of-type {\n",
       "        vertical-align: middle;\n",
       "    }\n",
       "\n",
       "    .dataframe tbody tr th {\n",
       "        vertical-align: top;\n",
       "    }\n",
       "\n",
       "    .dataframe thead th {\n",
       "        text-align: right;\n",
       "    }\n",
       "</style>\n",
       "<table border=\"1\" class=\"dataframe\">\n",
       "  <thead>\n",
       "    <tr style=\"text-align: right;\">\n",
       "      <th></th>\n",
       "      <th>station_id</th>\n",
       "      <th>bikes_available</th>\n",
       "      <th>time</th>\n",
       "    </tr>\n",
       "  </thead>\n",
       "  <tbody>\n",
       "    <tr>\n",
       "      <th>61417379</th>\n",
       "      <td>70</td>\n",
       "      <td>15</td>\n",
       "      <td>2015-08-31 23:50:02</td>\n",
       "    </tr>\n",
       "    <tr>\n",
       "      <th>61417380</th>\n",
       "      <td>70</td>\n",
       "      <td>15</td>\n",
       "      <td>2015-08-31 23:51:02</td>\n",
       "    </tr>\n",
       "    <tr>\n",
       "      <th>61417381</th>\n",
       "      <td>70</td>\n",
       "      <td>15</td>\n",
       "      <td>2015-08-31 23:52:02</td>\n",
       "    </tr>\n",
       "    <tr>\n",
       "      <th>61417382</th>\n",
       "      <td>70</td>\n",
       "      <td>15</td>\n",
       "      <td>2015-08-31 23:53:03</td>\n",
       "    </tr>\n",
       "    <tr>\n",
       "      <th>61417383</th>\n",
       "      <td>70</td>\n",
       "      <td>15</td>\n",
       "      <td>2015-08-31 23:54:02</td>\n",
       "    </tr>\n",
       "    <tr>\n",
       "      <th>61417384</th>\n",
       "      <td>70</td>\n",
       "      <td>15</td>\n",
       "      <td>2015-08-31 23:55:02</td>\n",
       "    </tr>\n",
       "    <tr>\n",
       "      <th>61417385</th>\n",
       "      <td>70</td>\n",
       "      <td>15</td>\n",
       "      <td>2015-08-31 23:56:01</td>\n",
       "    </tr>\n",
       "    <tr>\n",
       "      <th>61417386</th>\n",
       "      <td>70</td>\n",
       "      <td>15</td>\n",
       "      <td>2015-08-31 23:57:02</td>\n",
       "    </tr>\n",
       "    <tr>\n",
       "      <th>61417387</th>\n",
       "      <td>70</td>\n",
       "      <td>15</td>\n",
       "      <td>2015-08-31 23:58:02</td>\n",
       "    </tr>\n",
       "    <tr>\n",
       "      <th>61417388</th>\n",
       "      <td>70</td>\n",
       "      <td>15</td>\n",
       "      <td>2015-08-31 23:59:02</td>\n",
       "    </tr>\n",
       "  </tbody>\n",
       "</table>\n",
       "</div>"
      ],
      "text/plain": [
       "          station_id  bikes_available                time\n",
       "61417379          70               15 2015-08-31 23:50:02\n",
       "61417380          70               15 2015-08-31 23:51:02\n",
       "61417381          70               15 2015-08-31 23:52:02\n",
       "61417382          70               15 2015-08-31 23:53:03\n",
       "61417383          70               15 2015-08-31 23:54:02\n",
       "61417384          70               15 2015-08-31 23:55:02\n",
       "61417385          70               15 2015-08-31 23:56:01\n",
       "61417386          70               15 2015-08-31 23:57:02\n",
       "61417387          70               15 2015-08-31 23:58:02\n",
       "61417388          70               15 2015-08-31 23:59:02"
      ]
     },
     "execution_count": 27,
     "metadata": {},
     "output_type": "execute_result"
    }
   ],
   "source": [
    "dataset_station_id_transform.tail(10)"
   ]
  },
  {
   "cell_type": "markdown",
   "metadata": {},
   "source": [
    "### Train Function"
   ]
  },
  {
   "cell_type": "code",
   "execution_count": 28,
   "metadata": {},
   "outputs": [],
   "source": [
    "def plot_loss_valid(valid_losses):\n",
    "    plt.plot(valid_losses, label = 'Val Loss')\n",
    "    plt.xlabel('Epochs')\n",
    "    plt.ylabel('Loss')\n",
    "    plt.title('Validation Loss')\n",
    "    plt.show()"
   ]
  },
  {
   "cell_type": "code",
   "execution_count": 29,
   "metadata": {},
   "outputs": [],
   "source": [
    "# Train your model and evaluate on the validation set\n",
    "def train_model(model, optimizer, criterion, train_loader, valid_loader, num_epochs):\n",
    "    num_epochs = num_epochs\n",
    "    best_val_loss = float('inf')\n",
    "    train_losses = []\n",
    "    valid_losses = []\n",
    "    for epoch in range(num_epochs):\n",
    "        train_loss = 0.0\n",
    "\n",
    "        for inputs, targets in train_loader:\n",
    "            optimizer.zero_grad()\n",
    "            outputs = model(inputs.float())\n",
    "            loss = criterion(outputs, targets.squeeze(dim=(1)).float())\n",
    "            loss.backward()\n",
    "            optimizer.step()\n",
    "            train_loss += loss.item()\n",
    "            train_losses.append(loss.item())\n",
    "        val_loss = 0.0\n",
    "    \n",
    "        for inputs, targets in valid_loader:\n",
    "            outputs = model(inputs.float())\n",
    "            loss = criterion(outputs, targets.squeeze(dim=(1)).float())\n",
    "            val_loss += loss.item()\n",
    "        \n",
    "        val_loss /= len(valid_loader)\n",
    "        valid_losses.append(val_loss)\n",
    "\n",
    "        if val_loss < best_val_loss:\n",
    "            best_val_loss = val_loss\n",
    "            torch.save(model.state_dict(), 'best_model_LSTM.pth')\n",
    "    \n",
    "        print(f'Epoch {epoch+1}/{num_epochs}, Training Loss: {train_loss:.4f}, Validation Loss: {val_loss:.4f}')\n",
    "        \n",
    "    plot_loss_valid(valid_losses)\n",
    "    \n",
    "    "
   ]
  },
  {
   "cell_type": "markdown",
   "metadata": {},
   "source": [
    "### Test Function"
   ]
  },
  {
   "cell_type": "code",
   "execution_count": 30,
   "metadata": {},
   "outputs": [],
   "source": [
    "def test_model(best_model, test_loader, criterion):\n",
    "    # Load the best model and evaluate on the test set\n",
    "    best_model.double()\n",
    "    best_model.eval()\n",
    "\n",
    "    # Evaluate the model on the test set\n",
    "    test_loss = 0.0\n",
    "    predictions = []\n",
    "    actuals = []\n",
    "    with torch.no_grad():\n",
    "        for inputs, targets in test_loader:\n",
    "            inputs = inputs.to(device)\n",
    "            targets = targets.to(device)\n",
    "            outputs = best_model(inputs)\n",
    "            loss = criterion(outputs, targets.squeeze(dim=(1)))\n",
    "            test_loss += loss.item()\n",
    "            # Save the predictions and actual values for plotting later\n",
    "            predictions.append(outputs.cpu().numpy())\n",
    "            actuals.append(targets.squeeze(dim=(1)).cpu().numpy())\n",
    "    test_loss /= len(test_loader)\n",
    "    print(f\"Test Loss: {test_loss:.4f}\")\n",
    "    # Concatenate the predictions and actuals\n",
    "    predictions = np.concatenate(predictions, axis=0)\n",
    "    actuals = np.concatenate(actuals, axis=0)\n",
    "\n",
    "    return (predictions, actuals)"
   ]
  },
  {
   "cell_type": "markdown",
   "metadata": {},
   "source": [
    "### Print Metrics for each month Function"
   ]
  },
  {
   "cell_type": "code",
   "execution_count": 31,
   "metadata": {},
   "outputs": [],
   "source": [
    "import numpy as np\n",
    "from sklearn.metrics import mean_absolute_error, mean_squared_error, mean_absolute_percentage_error\n",
    "\n",
    "def result_prediction_by_month(predictions, actuals):\n",
    "    indices_by_month = []\n",
    "    EPSILON = 1e-5\n",
    "    for i in range(1): \n",
    "        grouped_data = test_data.groupby(pd.Grouper(freq='M'))\n",
    "        for name , group in grouped_data:\n",
    "            indices = np.where(test_data.index.isin(group.index))[0]\n",
    "            indices_by_month.append((name.strftime('%B'), indices))\n",
    "\n",
    "        for name, indice in indices_by_month:\n",
    "            y_pred = predictions[indice-window_size,i]\n",
    "            y_true = actuals[indice-window_size,i]\n",
    "\n",
    "            mae = mean_absolute_error(y_true, y_pred)\n",
    "            #mpe = np.mean((y_true - y_pred)/y_true + EPSILON) * 100\n",
    "            mape = mean_absolute_percentage_error(y_true, y_pred)\n",
    "            signe = \"-\" if np.mean(y_pred - y_true) < 0 else \"+\"\n",
    "            smape = np.mean(2 * np.abs(y_pred - y_true) / (np.abs(y_true) + np.abs(y_pred))) * 100\n",
    "            rmse = np.sqrt(mean_squared_error(y_true, y_pred))\n",
    "            maape =  np.mean(np.arctan(np.abs((y_true - y_pred) / (y_true + EPSILON))))\n",
    "\n",
    "            # Add evaluation metrics to the plot\n",
    "            print(f'\\n{name}')\n",
    "            print(f'MAE: {mae:.2f}')\n",
    "            if (mape < 1 and mape > 0):\n",
    "                print(f'MAPE: {mape:.2f}')\n",
    "            else:\n",
    "                #print(f'MPE: {mpe:.2f}')\n",
    "                print(f'Signe error: {signe}')\n",
    "                print(f'SMAPE: {smape:.2f}')\n",
    "            print(f'RMSE: {rmse:.2f}')\n",
    "            print(f'MAAPE: {maape:.2f}')"
   ]
  },
  {
   "cell_type": "markdown",
   "metadata": {},
   "source": [
    "### Print Plot to see accuracy and some Metrics Function"
   ]
  },
  {
   "cell_type": "code",
   "execution_count": 32,
   "metadata": {},
   "outputs": [],
   "source": [
    "import numpy as np\n",
    "from sklearn.metrics import mean_absolute_error, mean_squared_error, mean_absolute_percentage_error\n",
    "\n",
    "def result_prediction(predictions, actuals):\n",
    "    EPSILON = 1e-10\n",
    "    for i in range(3): \n",
    "        print(f'Station {pivoted_df_station_id.columns[i]}')\n",
    "        for y in range(0, len(test_data), 8):\n",
    "            debut = y\n",
    "            fin = min(y + 8, len(test_data))    \n",
    "            y_pred = predictions[debut:fin,i]\n",
    "            y_true = actuals[debut:fin,i]\n",
    "            \n",
    "            mae = mean_absolute_error(y_true, y_pred)\n",
    "            mape = mean_absolute_percentage_error(y_true, y_pred)\n",
    "            rmse = np.sqrt(mean_squared_error(y_true, y_pred))\n",
    "            maape =  np.mean(np.arctan(np.abs((y_true - y_pred) / (y_true + EPSILON))))\n",
    "            \n",
    "            # evaluation metrics\n",
    "            print(f'MAE: {mae:.2f}')\n",
    "            print(f'MAPE: {mape:.2f}')\n",
    "            print(f'RMSE: {rmse:.2f}')\n",
    "            print(f'MAAPE: {maape:.2f}')"
   ]
  },
  {
   "cell_type": "markdown",
   "metadata": {},
   "source": [
    "## Trying to forecast the availability of bikes "
   ]
  },
  {
   "cell_type": "code",
   "execution_count": 33,
   "metadata": {},
   "outputs": [],
   "source": [
    "import numpy as np\n",
    "import torch\n",
    "from torch.utils.data import Dataset, DataLoader\n",
    "device = torch.device('cuda' if torch.cuda.is_available() else 'cpu')"
   ]
  },
  {
   "cell_type": "code",
   "execution_count": 34,
   "metadata": {},
   "outputs": [],
   "source": [
    "pivoted_df_station_id = dataset_station_id_transform.pivot_table(index='time', columns='station_id', values='bikes_available')"
   ]
  },
  {
   "cell_type": "code",
   "execution_count": 35,
   "metadata": {},
   "outputs": [
    {
     "name": "stdout",
     "output_type": "stream",
     "text": [
      "1 min\n",
      "station_id\n",
      "42    0.031440\n",
      "60    0.073799\n",
      "70    0.145737\n",
      "dtype: float64\n",
      "5 min\n",
      "station_id\n",
      "42    0.132738\n",
      "60    0.291021\n",
      "70    0.511206\n",
      "dtype: float64\n",
      "10 min\n",
      "station_id\n",
      "42    0.216305\n",
      "60    0.457679\n",
      "70    0.708479\n",
      "dtype: float64\n",
      "15 min\n",
      "station_id\n",
      "42    0.283994\n",
      "60    0.591852\n",
      "70    0.847903\n",
      "dtype: float64\n",
      "30 min\n",
      "station_id\n",
      "42    0.443252\n",
      "60    0.896594\n",
      "70    1.131316\n",
      "dtype: float64\n",
      "60 min\n",
      "station_id\n",
      "42    0.659638\n",
      "60    1.288128\n",
      "70    1.448165\n",
      "dtype: float64\n"
     ]
    }
   ],
   "source": [
    "print(mean_variation_over_time_interval(pivoted_df_station_id, 1))\n",
    "print(mean_variation_over_time_interval(pivoted_df_station_id, 5))\n",
    "print(mean_variation_over_time_interval(pivoted_df_station_id, 10))\n",
    "print(mean_variation_over_time_interval(pivoted_df_station_id, 15))\n",
    "print(mean_variation_over_time_interval(pivoted_df_station_id, 30))\n",
    "print(mean_variation_over_time_interval(pivoted_df_station_id, 60))"
   ]
  },
  {
   "cell_type": "code",
   "execution_count": 36,
   "metadata": {},
   "outputs": [
    {
     "data": {
      "text/html": [
       "<div>\n",
       "<style scoped>\n",
       "    .dataframe tbody tr th:only-of-type {\n",
       "        vertical-align: middle;\n",
       "    }\n",
       "\n",
       "    .dataframe tbody tr th {\n",
       "        vertical-align: top;\n",
       "    }\n",
       "\n",
       "    .dataframe thead th {\n",
       "        text-align: right;\n",
       "    }\n",
       "</style>\n",
       "<table border=\"1\" class=\"dataframe\">\n",
       "  <thead>\n",
       "    <tr style=\"text-align: right;\">\n",
       "      <th>station_id</th>\n",
       "      <th>42</th>\n",
       "      <th>60</th>\n",
       "      <th>70</th>\n",
       "    </tr>\n",
       "    <tr>\n",
       "      <th>time</th>\n",
       "      <th></th>\n",
       "      <th></th>\n",
       "      <th></th>\n",
       "    </tr>\n",
       "  </thead>\n",
       "  <tbody>\n",
       "    <tr>\n",
       "      <th>2013-08-29 12:06:01</th>\n",
       "      <td>7.0</td>\n",
       "      <td>8.0</td>\n",
       "      <td>0.0</td>\n",
       "    </tr>\n",
       "    <tr>\n",
       "      <th>2013-08-29 12:07:01</th>\n",
       "      <td>7.0</td>\n",
       "      <td>8.0</td>\n",
       "      <td>0.0</td>\n",
       "    </tr>\n",
       "    <tr>\n",
       "      <th>2013-08-29 12:08:01</th>\n",
       "      <td>7.0</td>\n",
       "      <td>8.0</td>\n",
       "      <td>0.0</td>\n",
       "    </tr>\n",
       "    <tr>\n",
       "      <th>2013-08-29 12:09:01</th>\n",
       "      <td>7.0</td>\n",
       "      <td>8.0</td>\n",
       "      <td>0.0</td>\n",
       "    </tr>\n",
       "    <tr>\n",
       "      <th>2013-08-29 12:10:01</th>\n",
       "      <td>7.0</td>\n",
       "      <td>8.0</td>\n",
       "      <td>0.0</td>\n",
       "    </tr>\n",
       "    <tr>\n",
       "      <th>2013-08-29 12:11:01</th>\n",
       "      <td>7.0</td>\n",
       "      <td>8.0</td>\n",
       "      <td>0.0</td>\n",
       "    </tr>\n",
       "    <tr>\n",
       "      <th>2013-08-29 12:12:01</th>\n",
       "      <td>7.0</td>\n",
       "      <td>8.0</td>\n",
       "      <td>0.0</td>\n",
       "    </tr>\n",
       "    <tr>\n",
       "      <th>2013-08-29 12:13:01</th>\n",
       "      <td>7.0</td>\n",
       "      <td>8.0</td>\n",
       "      <td>0.0</td>\n",
       "    </tr>\n",
       "    <tr>\n",
       "      <th>2013-08-29 12:15:01</th>\n",
       "      <td>7.0</td>\n",
       "      <td>8.0</td>\n",
       "      <td>0.0</td>\n",
       "    </tr>\n",
       "    <tr>\n",
       "      <th>2013-08-29 12:16:02</th>\n",
       "      <td>7.0</td>\n",
       "      <td>8.0</td>\n",
       "      <td>0.0</td>\n",
       "    </tr>\n",
       "    <tr>\n",
       "      <th>2013-08-29 12:18:01</th>\n",
       "      <td>7.0</td>\n",
       "      <td>9.0</td>\n",
       "      <td>0.0</td>\n",
       "    </tr>\n",
       "    <tr>\n",
       "      <th>2013-08-29 12:19:01</th>\n",
       "      <td>7.0</td>\n",
       "      <td>9.0</td>\n",
       "      <td>1.0</td>\n",
       "    </tr>\n",
       "    <tr>\n",
       "      <th>2013-08-29 12:20:01</th>\n",
       "      <td>7.0</td>\n",
       "      <td>9.0</td>\n",
       "      <td>1.0</td>\n",
       "    </tr>\n",
       "    <tr>\n",
       "      <th>2013-08-29 12:21:01</th>\n",
       "      <td>7.0</td>\n",
       "      <td>9.0</td>\n",
       "      <td>1.0</td>\n",
       "    </tr>\n",
       "    <tr>\n",
       "      <th>2013-08-29 12:22:01</th>\n",
       "      <td>7.0</td>\n",
       "      <td>9.0</td>\n",
       "      <td>1.0</td>\n",
       "    </tr>\n",
       "    <tr>\n",
       "      <th>2013-08-29 12:23:01</th>\n",
       "      <td>7.0</td>\n",
       "      <td>11.0</td>\n",
       "      <td>1.0</td>\n",
       "    </tr>\n",
       "    <tr>\n",
       "      <th>2013-08-29 12:25:01</th>\n",
       "      <td>7.0</td>\n",
       "      <td>11.0</td>\n",
       "      <td>1.0</td>\n",
       "    </tr>\n",
       "    <tr>\n",
       "      <th>2013-08-29 12:26:01</th>\n",
       "      <td>6.0</td>\n",
       "      <td>11.0</td>\n",
       "      <td>1.0</td>\n",
       "    </tr>\n",
       "    <tr>\n",
       "      <th>2013-08-29 12:27:04</th>\n",
       "      <td>6.0</td>\n",
       "      <td>11.0</td>\n",
       "      <td>2.0</td>\n",
       "    </tr>\n",
       "    <tr>\n",
       "      <th>2013-08-29 12:29:01</th>\n",
       "      <td>6.0</td>\n",
       "      <td>11.0</td>\n",
       "      <td>2.0</td>\n",
       "    </tr>\n",
       "    <tr>\n",
       "      <th>2013-08-29 12:30:01</th>\n",
       "      <td>6.0</td>\n",
       "      <td>11.0</td>\n",
       "      <td>2.0</td>\n",
       "    </tr>\n",
       "    <tr>\n",
       "      <th>2013-08-29 12:31:01</th>\n",
       "      <td>6.0</td>\n",
       "      <td>11.0</td>\n",
       "      <td>2.0</td>\n",
       "    </tr>\n",
       "    <tr>\n",
       "      <th>2013-08-29 12:32:01</th>\n",
       "      <td>6.0</td>\n",
       "      <td>11.0</td>\n",
       "      <td>2.0</td>\n",
       "    </tr>\n",
       "    <tr>\n",
       "      <th>2013-08-29 12:33:01</th>\n",
       "      <td>6.0</td>\n",
       "      <td>11.0</td>\n",
       "      <td>2.0</td>\n",
       "    </tr>\n",
       "    <tr>\n",
       "      <th>2013-08-29 12:34:01</th>\n",
       "      <td>6.0</td>\n",
       "      <td>10.0</td>\n",
       "      <td>2.0</td>\n",
       "    </tr>\n",
       "    <tr>\n",
       "      <th>2013-08-29 12:36:01</th>\n",
       "      <td>6.0</td>\n",
       "      <td>10.0</td>\n",
       "      <td>2.0</td>\n",
       "    </tr>\n",
       "    <tr>\n",
       "      <th>2013-08-29 12:37:01</th>\n",
       "      <td>6.0</td>\n",
       "      <td>10.0</td>\n",
       "      <td>2.0</td>\n",
       "    </tr>\n",
       "    <tr>\n",
       "      <th>2013-08-29 12:38:01</th>\n",
       "      <td>6.0</td>\n",
       "      <td>10.0</td>\n",
       "      <td>2.0</td>\n",
       "    </tr>\n",
       "    <tr>\n",
       "      <th>2013-08-29 12:39:01</th>\n",
       "      <td>6.0</td>\n",
       "      <td>10.0</td>\n",
       "      <td>2.0</td>\n",
       "    </tr>\n",
       "    <tr>\n",
       "      <th>2013-08-29 12:40:02</th>\n",
       "      <td>6.0</td>\n",
       "      <td>10.0</td>\n",
       "      <td>2.0</td>\n",
       "    </tr>\n",
       "    <tr>\n",
       "      <th>2013-08-29 12:41:03</th>\n",
       "      <td>6.0</td>\n",
       "      <td>10.0</td>\n",
       "      <td>2.0</td>\n",
       "    </tr>\n",
       "    <tr>\n",
       "      <th>2013-08-29 12:42:04</th>\n",
       "      <td>6.0</td>\n",
       "      <td>10.0</td>\n",
       "      <td>2.0</td>\n",
       "    </tr>\n",
       "    <tr>\n",
       "      <th>2013-08-29 12:43:01</th>\n",
       "      <td>6.0</td>\n",
       "      <td>10.0</td>\n",
       "      <td>2.0</td>\n",
       "    </tr>\n",
       "    <tr>\n",
       "      <th>2013-08-29 12:44:01</th>\n",
       "      <td>6.0</td>\n",
       "      <td>10.0</td>\n",
       "      <td>2.0</td>\n",
       "    </tr>\n",
       "    <tr>\n",
       "      <th>2013-08-29 12:45:02</th>\n",
       "      <td>6.0</td>\n",
       "      <td>10.0</td>\n",
       "      <td>2.0</td>\n",
       "    </tr>\n",
       "    <tr>\n",
       "      <th>2013-08-29 12:46:01</th>\n",
       "      <td>6.0</td>\n",
       "      <td>12.0</td>\n",
       "      <td>2.0</td>\n",
       "    </tr>\n",
       "    <tr>\n",
       "      <th>2013-08-29 12:47:01</th>\n",
       "      <td>6.0</td>\n",
       "      <td>12.0</td>\n",
       "      <td>2.0</td>\n",
       "    </tr>\n",
       "    <tr>\n",
       "      <th>2013-08-29 12:48:01</th>\n",
       "      <td>6.0</td>\n",
       "      <td>12.0</td>\n",
       "      <td>2.0</td>\n",
       "    </tr>\n",
       "    <tr>\n",
       "      <th>2013-08-29 12:49:03</th>\n",
       "      <td>6.0</td>\n",
       "      <td>12.0</td>\n",
       "      <td>2.0</td>\n",
       "    </tr>\n",
       "    <tr>\n",
       "      <th>2013-08-29 12:50:01</th>\n",
       "      <td>6.0</td>\n",
       "      <td>12.0</td>\n",
       "      <td>2.0</td>\n",
       "    </tr>\n",
       "    <tr>\n",
       "      <th>2013-08-29 12:52:01</th>\n",
       "      <td>6.0</td>\n",
       "      <td>12.0</td>\n",
       "      <td>2.0</td>\n",
       "    </tr>\n",
       "    <tr>\n",
       "      <th>2013-08-29 12:53:02</th>\n",
       "      <td>6.0</td>\n",
       "      <td>12.0</td>\n",
       "      <td>2.0</td>\n",
       "    </tr>\n",
       "    <tr>\n",
       "      <th>2013-08-29 12:54:02</th>\n",
       "      <td>6.0</td>\n",
       "      <td>13.0</td>\n",
       "      <td>2.0</td>\n",
       "    </tr>\n",
       "    <tr>\n",
       "      <th>2013-08-29 12:55:01</th>\n",
       "      <td>7.0</td>\n",
       "      <td>13.0</td>\n",
       "      <td>2.0</td>\n",
       "    </tr>\n",
       "    <tr>\n",
       "      <th>2013-08-29 12:56:01</th>\n",
       "      <td>7.0</td>\n",
       "      <td>12.0</td>\n",
       "      <td>2.0</td>\n",
       "    </tr>\n",
       "    <tr>\n",
       "      <th>2013-08-29 12:57:01</th>\n",
       "      <td>7.0</td>\n",
       "      <td>12.0</td>\n",
       "      <td>2.0</td>\n",
       "    </tr>\n",
       "    <tr>\n",
       "      <th>2013-08-29 12:58:01</th>\n",
       "      <td>7.0</td>\n",
       "      <td>12.0</td>\n",
       "      <td>2.0</td>\n",
       "    </tr>\n",
       "    <tr>\n",
       "      <th>2013-08-29 12:59:01</th>\n",
       "      <td>7.0</td>\n",
       "      <td>12.0</td>\n",
       "      <td>2.0</td>\n",
       "    </tr>\n",
       "    <tr>\n",
       "      <th>2013-08-29 13:00:02</th>\n",
       "      <td>7.0</td>\n",
       "      <td>12.0</td>\n",
       "      <td>2.0</td>\n",
       "    </tr>\n",
       "    <tr>\n",
       "      <th>2013-08-29 13:01:01</th>\n",
       "      <td>7.0</td>\n",
       "      <td>12.0</td>\n",
       "      <td>2.0</td>\n",
       "    </tr>\n",
       "    <tr>\n",
       "      <th>2013-08-29 13:03:02</th>\n",
       "      <td>7.0</td>\n",
       "      <td>11.0</td>\n",
       "      <td>2.0</td>\n",
       "    </tr>\n",
       "    <tr>\n",
       "      <th>2013-08-29 13:04:01</th>\n",
       "      <td>7.0</td>\n",
       "      <td>11.0</td>\n",
       "      <td>2.0</td>\n",
       "    </tr>\n",
       "    <tr>\n",
       "      <th>2013-08-29 13:05:01</th>\n",
       "      <td>7.0</td>\n",
       "      <td>10.0</td>\n",
       "      <td>2.0</td>\n",
       "    </tr>\n",
       "    <tr>\n",
       "      <th>2013-08-29 13:06:02</th>\n",
       "      <td>7.0</td>\n",
       "      <td>10.0</td>\n",
       "      <td>2.0</td>\n",
       "    </tr>\n",
       "    <tr>\n",
       "      <th>2013-08-29 13:07:01</th>\n",
       "      <td>8.0</td>\n",
       "      <td>10.0</td>\n",
       "      <td>2.0</td>\n",
       "    </tr>\n",
       "    <tr>\n",
       "      <th>2013-08-29 13:08:01</th>\n",
       "      <td>8.0</td>\n",
       "      <td>10.0</td>\n",
       "      <td>2.0</td>\n",
       "    </tr>\n",
       "    <tr>\n",
       "      <th>2013-08-29 13:09:01</th>\n",
       "      <td>7.0</td>\n",
       "      <td>10.0</td>\n",
       "      <td>2.0</td>\n",
       "    </tr>\n",
       "    <tr>\n",
       "      <th>2013-08-29 13:10:02</th>\n",
       "      <td>7.0</td>\n",
       "      <td>10.0</td>\n",
       "      <td>2.0</td>\n",
       "    </tr>\n",
       "    <tr>\n",
       "      <th>2013-08-29 13:11:01</th>\n",
       "      <td>7.0</td>\n",
       "      <td>10.0</td>\n",
       "      <td>2.0</td>\n",
       "    </tr>\n",
       "    <tr>\n",
       "      <th>2013-08-29 13:12:01</th>\n",
       "      <td>7.0</td>\n",
       "      <td>10.0</td>\n",
       "      <td>2.0</td>\n",
       "    </tr>\n",
       "  </tbody>\n",
       "</table>\n",
       "</div>"
      ],
      "text/plain": [
       "station_id            42    60   70\n",
       "time                               \n",
       "2013-08-29 12:06:01  7.0   8.0  0.0\n",
       "2013-08-29 12:07:01  7.0   8.0  0.0\n",
       "2013-08-29 12:08:01  7.0   8.0  0.0\n",
       "2013-08-29 12:09:01  7.0   8.0  0.0\n",
       "2013-08-29 12:10:01  7.0   8.0  0.0\n",
       "2013-08-29 12:11:01  7.0   8.0  0.0\n",
       "2013-08-29 12:12:01  7.0   8.0  0.0\n",
       "2013-08-29 12:13:01  7.0   8.0  0.0\n",
       "2013-08-29 12:15:01  7.0   8.0  0.0\n",
       "2013-08-29 12:16:02  7.0   8.0  0.0\n",
       "2013-08-29 12:18:01  7.0   9.0  0.0\n",
       "2013-08-29 12:19:01  7.0   9.0  1.0\n",
       "2013-08-29 12:20:01  7.0   9.0  1.0\n",
       "2013-08-29 12:21:01  7.0   9.0  1.0\n",
       "2013-08-29 12:22:01  7.0   9.0  1.0\n",
       "2013-08-29 12:23:01  7.0  11.0  1.0\n",
       "2013-08-29 12:25:01  7.0  11.0  1.0\n",
       "2013-08-29 12:26:01  6.0  11.0  1.0\n",
       "2013-08-29 12:27:04  6.0  11.0  2.0\n",
       "2013-08-29 12:29:01  6.0  11.0  2.0\n",
       "2013-08-29 12:30:01  6.0  11.0  2.0\n",
       "2013-08-29 12:31:01  6.0  11.0  2.0\n",
       "2013-08-29 12:32:01  6.0  11.0  2.0\n",
       "2013-08-29 12:33:01  6.0  11.0  2.0\n",
       "2013-08-29 12:34:01  6.0  10.0  2.0\n",
       "2013-08-29 12:36:01  6.0  10.0  2.0\n",
       "2013-08-29 12:37:01  6.0  10.0  2.0\n",
       "2013-08-29 12:38:01  6.0  10.0  2.0\n",
       "2013-08-29 12:39:01  6.0  10.0  2.0\n",
       "2013-08-29 12:40:02  6.0  10.0  2.0\n",
       "2013-08-29 12:41:03  6.0  10.0  2.0\n",
       "2013-08-29 12:42:04  6.0  10.0  2.0\n",
       "2013-08-29 12:43:01  6.0  10.0  2.0\n",
       "2013-08-29 12:44:01  6.0  10.0  2.0\n",
       "2013-08-29 12:45:02  6.0  10.0  2.0\n",
       "2013-08-29 12:46:01  6.0  12.0  2.0\n",
       "2013-08-29 12:47:01  6.0  12.0  2.0\n",
       "2013-08-29 12:48:01  6.0  12.0  2.0\n",
       "2013-08-29 12:49:03  6.0  12.0  2.0\n",
       "2013-08-29 12:50:01  6.0  12.0  2.0\n",
       "2013-08-29 12:52:01  6.0  12.0  2.0\n",
       "2013-08-29 12:53:02  6.0  12.0  2.0\n",
       "2013-08-29 12:54:02  6.0  13.0  2.0\n",
       "2013-08-29 12:55:01  7.0  13.0  2.0\n",
       "2013-08-29 12:56:01  7.0  12.0  2.0\n",
       "2013-08-29 12:57:01  7.0  12.0  2.0\n",
       "2013-08-29 12:58:01  7.0  12.0  2.0\n",
       "2013-08-29 12:59:01  7.0  12.0  2.0\n",
       "2013-08-29 13:00:02  7.0  12.0  2.0\n",
       "2013-08-29 13:01:01  7.0  12.0  2.0\n",
       "2013-08-29 13:03:02  7.0  11.0  2.0\n",
       "2013-08-29 13:04:01  7.0  11.0  2.0\n",
       "2013-08-29 13:05:01  7.0  10.0  2.0\n",
       "2013-08-29 13:06:02  7.0  10.0  2.0\n",
       "2013-08-29 13:07:01  8.0  10.0  2.0\n",
       "2013-08-29 13:08:01  8.0  10.0  2.0\n",
       "2013-08-29 13:09:01  7.0  10.0  2.0\n",
       "2013-08-29 13:10:02  7.0  10.0  2.0\n",
       "2013-08-29 13:11:01  7.0  10.0  2.0\n",
       "2013-08-29 13:12:01  7.0  10.0  2.0"
      ]
     },
     "execution_count": 36,
     "metadata": {},
     "output_type": "execute_result"
    }
   ],
   "source": [
    "pivoted_df_station_id.head(60)"
   ]
  },
  {
   "cell_type": "markdown",
   "metadata": {},
   "source": [
    "### First Experimentation group by day and hour "
   ]
  },
  {
   "attachments": {},
   "cell_type": "markdown",
   "metadata": {},
   "source": [
    "#### Use 15 min to predict the 5th next min"
   ]
  },
  {
   "cell_type": "code",
   "execution_count": 37,
   "metadata": {},
   "outputs": [],
   "source": [
    "group = pivoted_df_station_id.groupby(pd.Grouper(freq='5min'), dropna=True).mean()"
   ]
  },
  {
   "cell_type": "code",
   "execution_count": 38,
   "metadata": {},
   "outputs": [],
   "source": [
    "window_size = \"30min\"\n",
    "df_weekday_hour = group.rolling(window_size).mean()"
   ]
  },
  {
   "cell_type": "code",
   "execution_count": 39,
   "metadata": {},
   "outputs": [
    {
     "data": {
      "text/plain": [
       "661"
      ]
     },
     "execution_count": 39,
     "metadata": {},
     "output_type": "execute_result"
    }
   ],
   "source": [
    "len(df_weekday_hour[df_weekday_hour.isna().any(axis=1)])    "
   ]
  },
  {
   "cell_type": "code",
   "execution_count": 40,
   "metadata": {},
   "outputs": [],
   "source": [
    "df_weekday_hour = df_weekday_hour.dropna()"
   ]
  },
  {
   "cell_type": "code",
   "execution_count": 41,
   "metadata": {},
   "outputs": [
    {
     "data": {
      "text/plain": [
       "0"
      ]
     },
     "execution_count": 41,
     "metadata": {},
     "output_type": "execute_result"
    }
   ],
   "source": [
    "len(df_weekday_hour[df_weekday_hour.isna().any(axis=1)])"
   ]
  },
  {
   "cell_type": "code",
   "execution_count": 42,
   "metadata": {},
   "outputs": [],
   "source": [
    "df_weekday_hour_prep = df_weekday_hour.copy()"
   ]
  },
  {
   "cell_type": "code",
   "execution_count": 43,
   "metadata": {},
   "outputs": [
    {
     "data": {
      "text/html": [
       "<div>\n",
       "<style scoped>\n",
       "    .dataframe tbody tr th:only-of-type {\n",
       "        vertical-align: middle;\n",
       "    }\n",
       "\n",
       "    .dataframe tbody tr th {\n",
       "        vertical-align: top;\n",
       "    }\n",
       "\n",
       "    .dataframe thead th {\n",
       "        text-align: right;\n",
       "    }\n",
       "</style>\n",
       "<table border=\"1\" class=\"dataframe\">\n",
       "  <thead>\n",
       "    <tr style=\"text-align: right;\">\n",
       "      <th>station_id</th>\n",
       "      <th>42</th>\n",
       "      <th>60</th>\n",
       "      <th>70</th>\n",
       "    </tr>\n",
       "    <tr>\n",
       "      <th>time</th>\n",
       "      <th></th>\n",
       "      <th></th>\n",
       "      <th></th>\n",
       "    </tr>\n",
       "  </thead>\n",
       "  <tbody>\n",
       "    <tr>\n",
       "      <th>2013-08-29 12:05:00</th>\n",
       "      <td>7.0</td>\n",
       "      <td>8.000000</td>\n",
       "      <td>0.000000</td>\n",
       "    </tr>\n",
       "    <tr>\n",
       "      <th>2013-08-29 12:10:00</th>\n",
       "      <td>7.0</td>\n",
       "      <td>8.000000</td>\n",
       "      <td>0.000000</td>\n",
       "    </tr>\n",
       "    <tr>\n",
       "      <th>2013-08-29 12:15:00</th>\n",
       "      <td>7.0</td>\n",
       "      <td>8.166667</td>\n",
       "      <td>0.083333</td>\n",
       "    </tr>\n",
       "    <tr>\n",
       "      <th>2013-08-29 12:20:00</th>\n",
       "      <td>7.0</td>\n",
       "      <td>8.500000</td>\n",
       "      <td>0.312500</td>\n",
       "    </tr>\n",
       "  </tbody>\n",
       "</table>\n",
       "</div>"
      ],
      "text/plain": [
       "station_id            42        60        70\n",
       "time                                        \n",
       "2013-08-29 12:05:00  7.0  8.000000  0.000000\n",
       "2013-08-29 12:10:00  7.0  8.000000  0.000000\n",
       "2013-08-29 12:15:00  7.0  8.166667  0.083333\n",
       "2013-08-29 12:20:00  7.0  8.500000  0.312500"
      ]
     },
     "execution_count": 43,
     "metadata": {},
     "output_type": "execute_result"
    }
   ],
   "source": [
    "df_weekday_hour_prep.head(4)"
   ]
  },
  {
   "cell_type": "code",
   "execution_count": 44,
   "metadata": {},
   "outputs": [
    {
     "data": {
      "text/html": [
       "<div>\n",
       "<style scoped>\n",
       "    .dataframe tbody tr th:only-of-type {\n",
       "        vertical-align: middle;\n",
       "    }\n",
       "\n",
       "    .dataframe tbody tr th {\n",
       "        vertical-align: top;\n",
       "    }\n",
       "\n",
       "    .dataframe thead th {\n",
       "        text-align: right;\n",
       "    }\n",
       "</style>\n",
       "<table border=\"1\" class=\"dataframe\">\n",
       "  <thead>\n",
       "    <tr style=\"text-align: right;\">\n",
       "      <th>station_id</th>\n",
       "      <th>42</th>\n",
       "      <th>60</th>\n",
       "      <th>70</th>\n",
       "    </tr>\n",
       "    <tr>\n",
       "      <th>time</th>\n",
       "      <th></th>\n",
       "      <th></th>\n",
       "      <th></th>\n",
       "    </tr>\n",
       "  </thead>\n",
       "  <tbody>\n",
       "  </tbody>\n",
       "</table>\n",
       "</div>"
      ],
      "text/plain": [
       "Empty DataFrame\n",
       "Columns: [42, 60, 70]\n",
       "Index: []"
      ]
     },
     "execution_count": 44,
     "metadata": {},
     "output_type": "execute_result"
    }
   ],
   "source": [
    "df_weekday_hour_prep[df_weekday_hour_prep.isna().any(axis=1)]"
   ]
  },
  {
   "cell_type": "code",
   "execution_count": 45,
   "metadata": {},
   "outputs": [],
   "source": [
    "train_data = df_weekday_hour_prep[:'2014-11-01 12:00:00']\n",
    "valid_data = df_weekday_hour_prep['2014-11-01 12:00:00':'2015-01-01 12:00:00']\n",
    "test_data = df_weekday_hour_prep['2015-01-01 12:00:00':'2015-08-31 13:00:00']"
   ]
  },
  {
   "attachments": {},
   "cell_type": "markdown",
   "metadata": {},
   "source": [
    "##### f(a(t), b(t), c(t)) = a(t+1), b(t+1) + c(t+1)"
   ]
  },
  {
   "cell_type": "code",
   "execution_count": 46,
   "metadata": {},
   "outputs": [],
   "source": [
    "# Define the sliding window size and stride\n",
    "window_size = 3\n",
    "stride = 1\n",
    "\n",
    "# Create datasets and data loaders for training, validation, and test sets\n",
    "train_dataset = TimeSeriesDataset(train_data.values, window_size, stride)\n",
    "valid_dataset = TimeSeriesDataset(valid_data.values, window_size, stride)\n",
    "test_dataset = TimeSeriesDataset(test_data.values, window_size, stride)\n",
    "\n",
    "train_loader = DataLoader(train_dataset, batch_size=32, shuffle=False)\n",
    "valid_loader = DataLoader(valid_dataset, batch_size=32, shuffle=False)\n",
    "test_loader = DataLoader(test_dataset, batch_size=32, shuffle=False)"
   ]
  },
  {
   "cell_type": "code",
   "execution_count": 54,
   "metadata": {},
   "outputs": [],
   "source": [
    "# Parameters of the LSTM\n",
    "layers = 3\n",
    "hidden_size = 32\n",
    "input_LSTM = 3\n",
    "output_LSTM = 3\n",
    "\n",
    "# Instantiate your LSTM model and define the loss function and optimizer\n",
    "model = LSTMModel_v1(input_size=input_LSTM, hidden_size=hidden_size, num_layers=layers, output_size=output_LSTM)\n",
    "criterion = torch.nn.MSELoss()\n",
    "optimizer = torch.optim.Adam(model.parameters(), lr=0.001)"
   ]
  },
  {
   "cell_type": "code",
   "execution_count": 55,
   "metadata": {},
   "outputs": [
    {
     "name": "stdout",
     "output_type": "stream",
     "text": [
      "Epoch 1/50, Training Loss: 29723.1805, Validation Loss: 0.9782\n",
      "Epoch 2/50, Training Loss: 1763.8863, Validation Loss: 0.4134\n",
      "Epoch 3/50, Training Loss: 915.3150, Validation Loss: 0.1753\n",
      "Epoch 4/50, Training Loss: 726.8748, Validation Loss: 0.1199\n",
      "Epoch 5/50, Training Loss: 565.1960, Validation Loss: 0.0973\n",
      "Epoch 6/50, Training Loss: 535.3834, Validation Loss: 0.1495\n",
      "Epoch 7/50, Training Loss: 463.3209, Validation Loss: 0.1639\n",
      "Epoch 8/50, Training Loss: 422.7648, Validation Loss: 0.1877\n",
      "Epoch 9/50, Training Loss: 392.0678, Validation Loss: 0.0874\n",
      "Epoch 10/50, Training Loss: 366.6071, Validation Loss: 0.0954\n",
      "Epoch 11/50, Training Loss: 293.5155, Validation Loss: 0.0637\n",
      "Epoch 12/50, Training Loss: 299.3409, Validation Loss: 0.0592\n",
      "Epoch 13/50, Training Loss: 297.9379, Validation Loss: 0.0864\n",
      "Epoch 14/50, Training Loss: 281.6260, Validation Loss: 0.0918\n",
      "Epoch 15/50, Training Loss: 240.9167, Validation Loss: 0.0586\n",
      "Epoch 16/50, Training Loss: 252.9389, Validation Loss: 0.1046\n",
      "Epoch 17/50, Training Loss: 248.7042, Validation Loss: 0.0969\n",
      "Epoch 18/50, Training Loss: 232.3884, Validation Loss: 0.0513\n",
      "Epoch 19/50, Training Loss: 221.9355, Validation Loss: 0.0753\n",
      "Epoch 20/50, Training Loss: 224.6620, Validation Loss: 0.0783\n",
      "Epoch 21/50, Training Loss: 214.4254, Validation Loss: 0.0795\n",
      "Epoch 22/50, Training Loss: 205.5143, Validation Loss: 0.0672\n",
      "Epoch 23/50, Training Loss: 190.7424, Validation Loss: 0.0624\n",
      "Epoch 24/50, Training Loss: 212.6294, Validation Loss: 0.0791\n",
      "Epoch 25/50, Training Loss: 193.4521, Validation Loss: 0.0616\n",
      "Epoch 26/50, Training Loss: 202.4724, Validation Loss: 0.0652\n",
      "Epoch 27/50, Training Loss: 182.6301, Validation Loss: 0.0986\n",
      "Epoch 28/50, Training Loss: 189.1588, Validation Loss: 0.0616\n",
      "Epoch 29/50, Training Loss: 176.0973, Validation Loss: 0.0848\n",
      "Epoch 30/50, Training Loss: 177.5667, Validation Loss: 0.0846\n",
      "Epoch 31/50, Training Loss: 175.3153, Validation Loss: 0.0681\n",
      "Epoch 32/50, Training Loss: 194.0334, Validation Loss: 0.0669\n",
      "Epoch 33/50, Training Loss: 166.3335, Validation Loss: 0.0691\n",
      "Epoch 34/50, Training Loss: 164.1738, Validation Loss: 0.0620\n",
      "Epoch 35/50, Training Loss: 169.1839, Validation Loss: 0.0881\n",
      "Epoch 36/50, Training Loss: 169.5439, Validation Loss: 0.0672\n",
      "Epoch 37/50, Training Loss: 163.5203, Validation Loss: 0.0615\n",
      "Epoch 38/50, Training Loss: 158.8357, Validation Loss: 0.0590\n",
      "Epoch 39/50, Training Loss: 160.0415, Validation Loss: 0.0600\n",
      "Epoch 40/50, Training Loss: 163.0232, Validation Loss: 0.0621\n",
      "Epoch 41/50, Training Loss: 161.9172, Validation Loss: 0.0551\n",
      "Epoch 42/50, Training Loss: 170.0441, Validation Loss: 0.0612\n",
      "Epoch 43/50, Training Loss: 159.1438, Validation Loss: 0.0785\n",
      "Epoch 44/50, Training Loss: 154.6066, Validation Loss: 0.0619\n",
      "Epoch 45/50, Training Loss: 158.3305, Validation Loss: 0.0590\n",
      "Epoch 46/50, Training Loss: 153.9539, Validation Loss: 0.0660\n",
      "Epoch 47/50, Training Loss: 160.5791, Validation Loss: 0.0914\n",
      "Epoch 48/50, Training Loss: 155.7443, Validation Loss: 0.0627\n",
      "Epoch 49/50, Training Loss: 155.3904, Validation Loss: 0.0685\n",
      "Epoch 50/50, Training Loss: 149.5670, Validation Loss: 0.0560\n"
     ]
    },
    {
     "data": {
      "image/png": "[encoded data removed]",
      "text/plain": [
       "<Figure size 640x480 with 1 Axes>"
      ]
     },
     "metadata": {},
     "output_type": "display_data"
    }
   ],
   "source": [
    "train_model(model, optimizer, criterion, train_loader, valid_loader, 50)"
   ]
  },
  {
   "cell_type": "code",
   "execution_count": 56,
   "metadata": {},
   "outputs": [
    {
     "name": "stdout",
     "output_type": "stream",
     "text": [
      "Test Loss: 0.0569\n"
     ]
    }
   ],
   "source": [
    "best_model =  LSTMModel_v1(input_size=input_LSTM, hidden_size=hidden_size, num_layers=layers, output_size=output_LSTM)\n",
    "best_model.load_state_dict(torch.load('best_model_LSTM.pth'.format(input)))\n",
    "predictions_n_to_n, actuals_n_to_n = test_model(best_model, test_loader, criterion)"
   ]
  },
  {
   "cell_type": "code",
   "execution_count": 57,
   "metadata": {},
   "outputs": [
    {
     "name": "stdout",
     "output_type": "stream",
     "text": [
      "\n",
      "January\n",
      "MAE: 0.10\n",
      "Signe error: +\n",
      "SMAPE: 2.53\n",
      "RMSE: 0.14\n",
      "MAAPE: 0.02\n",
      "\n",
      "February\n",
      "MAE: 0.10\n",
      "Signe error: +\n",
      "SMAPE: 3.18\n",
      "RMSE: 0.14\n",
      "MAAPE: 0.03\n",
      "\n",
      "March\n",
      "MAE: 0.11\n",
      "Signe error: +\n",
      "SMAPE: 3.09\n",
      "RMSE: 0.15\n",
      "MAAPE: 0.03\n",
      "\n",
      "April\n",
      "MAE: 0.10\n",
      "Signe error: +\n",
      "SMAPE: 3.25\n",
      "RMSE: 0.14\n",
      "MAAPE: 0.03\n",
      "\n",
      "May\n",
      "MAE: 0.10\n",
      "Signe error: +\n",
      "SMAPE: 3.52\n",
      "RMSE: 0.15\n",
      "MAAPE: 0.03\n",
      "\n",
      "June\n",
      "MAE: 0.10\n",
      "Signe error: +\n",
      "SMAPE: 3.15\n",
      "RMSE: 0.15\n",
      "MAAPE: 0.03\n",
      "\n",
      "July\n",
      "MAE: 0.11\n",
      "Signe error: +\n",
      "SMAPE: 2.49\n",
      "RMSE: 0.15\n",
      "MAAPE: 0.02\n",
      "\n",
      "August\n",
      "MAE: 0.10\n",
      "Signe error: +\n",
      "SMAPE: 3.29\n",
      "RMSE: 0.15\n",
      "MAAPE: 0.03\n"
     ]
    }
   ],
   "source": [
    "result_prediction_by_month(predictions_n_to_n, actuals_n_to_n)"
   ]
  },
  {
   "cell_type": "code",
   "execution_count": null,
   "metadata": {},
   "outputs": [],
   "source": [
    "#result_prediction(predictions, actuals)"
   ]
  },
  {
   "attachments": {},
   "cell_type": "markdown",
   "metadata": {},
   "source": [
    "##### f(a(t), b(t), c(t)) = a(t+1)"
   ]
  },
  {
   "cell_type": "code",
   "execution_count": 77,
   "metadata": {},
   "outputs": [
    {
     "data": {
      "text/html": [
       "<div>\n",
       "<style scoped>\n",
       "    .dataframe tbody tr th:only-of-type {\n",
       "        vertical-align: middle;\n",
       "    }\n",
       "\n",
       "    .dataframe tbody tr th {\n",
       "        vertical-align: top;\n",
       "    }\n",
       "\n",
       "    .dataframe thead th {\n",
       "        text-align: right;\n",
       "    }\n",
       "</style>\n",
       "<table border=\"1\" class=\"dataframe\">\n",
       "  <thead>\n",
       "    <tr style=\"text-align: right;\">\n",
       "      <th>station_id</th>\n",
       "      <th>42</th>\n",
       "      <th>60</th>\n",
       "      <th>70</th>\n",
       "    </tr>\n",
       "    <tr>\n",
       "      <th>time</th>\n",
       "      <th></th>\n",
       "      <th></th>\n",
       "      <th></th>\n",
       "    </tr>\n",
       "  </thead>\n",
       "  <tbody>\n",
       "    <tr>\n",
       "      <th>2013-08-29 12:00:00</th>\n",
       "      <td>7.000</td>\n",
       "      <td>8.000000</td>\n",
       "      <td>0.000000</td>\n",
       "    </tr>\n",
       "    <tr>\n",
       "      <th>2013-08-29 12:10:00</th>\n",
       "      <td>7.000</td>\n",
       "      <td>8.125000</td>\n",
       "      <td>0.062500</td>\n",
       "    </tr>\n",
       "    <tr>\n",
       "      <th>2013-08-29 12:20:00</th>\n",
       "      <td>6.875</td>\n",
       "      <td>8.833333</td>\n",
       "      <td>0.458333</td>\n",
       "    </tr>\n",
       "  </tbody>\n",
       "</table>\n",
       "</div>"
      ],
      "text/plain": [
       "station_id              42        60        70\n",
       "time                                          \n",
       "2013-08-29 12:00:00  7.000  8.000000  0.000000\n",
       "2013-08-29 12:10:00  7.000  8.125000  0.062500\n",
       "2013-08-29 12:20:00  6.875  8.833333  0.458333"
      ]
     },
     "execution_count": 77,
     "metadata": {},
     "output_type": "execute_result"
    }
   ],
   "source": [
    "df_weekday_hour_prep.head(3)"
   ]
  },
  {
   "cell_type": "code",
   "execution_count": 167,
   "metadata": {},
   "outputs": [],
   "source": [
    "# Define the sliding window size and stride\n",
    "window_size = 3\n",
    "stride = 1\n",
    "\n",
    "# Create datasets and data loaders for training, validation, and test sets\n",
    "train_dataset = TimeSeriesDataset(train_data.values, window_size, stride, drop=[1, 2])\n",
    "valid_dataset = TimeSeriesDataset(valid_data.values, window_size, stride, drop=[1, 2])\n",
    "test_dataset = TimeSeriesDataset(test_data.values, window_size, stride, drop=[1, 2])\n",
    "\n",
    "train_loader = DataLoader(train_dataset, batch_size=32, shuffle=False)\n",
    "valid_loader = DataLoader(valid_dataset, batch_size=32, shuffle=False)\n",
    "test_loader = DataLoader(test_dataset, batch_size=32, shuffle=False)"
   ]
  },
  {
   "cell_type": "code",
   "execution_count": 168,
   "metadata": {},
   "outputs": [],
   "source": [
    "# Parameters of the LSTM\n",
    "layers = 3\n",
    "hidden_size = 32\n",
    "input_LSTM = 3\n",
    "output_LSTM = 1\n",
    "\n",
    "# Instantiate your LSTM model and define the loss function and optimizer\n",
    "model = LSTMModel_v1(input_size=input_LSTM, hidden_size=hidden_size, num_layers=layers, output_size=output_LSTM)\n",
    "criterion = torch.nn.MSELoss()\n",
    "optimizer = torch.optim.Adam(model.parameters(), lr=0.001)"
   ]
  },
  {
   "cell_type": "code",
   "execution_count": 169,
   "metadata": {},
   "outputs": [
    {
     "name": "stdout",
     "output_type": "stream",
     "text": [
      "Epoch 1/100, Training Loss: 11608.4894, Validation Loss: 0.2652\n",
      "Epoch 2/100, Training Loss: 510.3508, Validation Loss: 0.2041\n",
      "Epoch 3/100, Training Loss: 344.4526, Validation Loss: 0.1080\n",
      "Epoch 4/100, Training Loss: 204.6836, Validation Loss: 0.2081\n",
      "Epoch 5/100, Training Loss: 166.6647, Validation Loss: 0.1230\n",
      "Epoch 6/100, Training Loss: 241.8586, Validation Loss: 0.0192\n",
      "Epoch 7/100, Training Loss: 101.9580, Validation Loss: 0.0329\n",
      "Epoch 8/100, Training Loss: 100.0856, Validation Loss: 0.0386\n",
      "Epoch 9/100, Training Loss: 96.7076, Validation Loss: 0.0127\n",
      "Epoch 10/100, Training Loss: 146.8235, Validation Loss: 0.0182\n",
      "Epoch 11/100, Training Loss: 81.2360, Validation Loss: 0.0296\n",
      "Epoch 12/100, Training Loss: 81.4919, Validation Loss: 0.0185\n",
      "Epoch 13/100, Training Loss: 76.7248, Validation Loss: 0.0268\n",
      "Epoch 14/100, Training Loss: 68.4882, Validation Loss: 0.0239\n",
      "Epoch 15/100, Training Loss: 66.0066, Validation Loss: 0.0158\n",
      "Epoch 16/100, Training Loss: 62.1898, Validation Loss: 0.0163\n",
      "Epoch 17/100, Training Loss: 64.0557, Validation Loss: 0.0122\n",
      "Epoch 18/100, Training Loss: 61.9068, Validation Loss: 0.0114\n",
      "Epoch 19/100, Training Loss: 59.5378, Validation Loss: 0.0103\n",
      "Epoch 20/100, Training Loss: 60.1276, Validation Loss: 0.0117\n",
      "Epoch 21/100, Training Loss: 60.5820, Validation Loss: 0.0152\n",
      "Epoch 22/100, Training Loss: 60.7643, Validation Loss: 0.0180\n",
      "Epoch 23/100, Training Loss: 61.4248, Validation Loss: 0.0131\n",
      "Epoch 24/100, Training Loss: 59.1925, Validation Loss: 0.0140\n",
      "Epoch 25/100, Training Loss: 59.0682, Validation Loss: 0.0147\n",
      "Epoch 26/100, Training Loss: 56.8012, Validation Loss: 0.0148\n",
      "Epoch 27/100, Training Loss: 57.6280, Validation Loss: 0.0143\n",
      "Epoch 28/100, Training Loss: 55.1343, Validation Loss: 0.0159\n",
      "Epoch 29/100, Training Loss: 54.6579, Validation Loss: 0.0136\n",
      "Epoch 30/100, Training Loss: 52.8432, Validation Loss: 0.0164\n",
      "Epoch 31/100, Training Loss: 53.3429, Validation Loss: 0.0160\n",
      "Epoch 32/100, Training Loss: 52.8835, Validation Loss: 0.0156\n",
      "Epoch 33/100, Training Loss: 53.5829, Validation Loss: 0.0164\n",
      "Epoch 34/100, Training Loss: 52.4995, Validation Loss: 0.0144\n",
      "Epoch 35/100, Training Loss: 54.1605, Validation Loss: 0.0163\n",
      "Epoch 36/100, Training Loss: 56.4333, Validation Loss: 0.0116\n",
      "Epoch 37/100, Training Loss: 51.2670, Validation Loss: 0.0153\n",
      "Epoch 38/100, Training Loss: 50.4327, Validation Loss: 0.0173\n",
      "Epoch 39/100, Training Loss: 48.8599, Validation Loss: 0.0140\n",
      "Epoch 40/100, Training Loss: 52.6168, Validation Loss: 0.0100\n",
      "Epoch 41/100, Training Loss: 47.7115, Validation Loss: 0.0117\n",
      "Epoch 42/100, Training Loss: 47.6360, Validation Loss: 0.0118\n",
      "Epoch 43/100, Training Loss: 49.5068, Validation Loss: 0.0124\n",
      "Epoch 44/100, Training Loss: 47.9607, Validation Loss: 0.0108\n",
      "Epoch 45/100, Training Loss: 49.5844, Validation Loss: 0.0122\n",
      "Epoch 46/100, Training Loss: 48.4726, Validation Loss: 0.0106\n",
      "Epoch 47/100, Training Loss: 49.2855, Validation Loss: 0.0109\n",
      "Epoch 48/100, Training Loss: 48.5572, Validation Loss: 0.0108\n",
      "Epoch 49/100, Training Loss: 45.3953, Validation Loss: 0.0144\n",
      "Epoch 50/100, Training Loss: 46.6113, Validation Loss: 0.0116\n",
      "Epoch 51/100, Training Loss: 46.7872, Validation Loss: 0.0150\n",
      "Epoch 52/100, Training Loss: 46.0654, Validation Loss: 0.0130\n",
      "Epoch 53/100, Training Loss: 45.9055, Validation Loss: 0.0117\n",
      "Epoch 54/100, Training Loss: 44.5443, Validation Loss: 0.0104\n",
      "Epoch 55/100, Training Loss: 45.5120, Validation Loss: 0.0098\n",
      "Epoch 56/100, Training Loss: 44.4560, Validation Loss: 0.0096\n",
      "Epoch 57/100, Training Loss: 42.9113, Validation Loss: 0.0104\n",
      "Epoch 58/100, Training Loss: 43.1394, Validation Loss: 0.0097\n",
      "Epoch 59/100, Training Loss: 42.8720, Validation Loss: 0.0105\n",
      "Epoch 60/100, Training Loss: 42.3684, Validation Loss: 0.0102\n",
      "Epoch 61/100, Training Loss: 42.7285, Validation Loss: 0.0102\n",
      "Epoch 62/100, Training Loss: 41.5358, Validation Loss: 0.0100\n",
      "Epoch 63/100, Training Loss: 41.4282, Validation Loss: 0.0102\n",
      "Epoch 64/100, Training Loss: 41.5843, Validation Loss: 0.0100\n",
      "Epoch 65/100, Training Loss: 41.4490, Validation Loss: 0.0096\n",
      "Epoch 66/100, Training Loss: 41.6193, Validation Loss: 0.0095\n",
      "Epoch 67/100, Training Loss: 41.1053, Validation Loss: 0.0098\n",
      "Epoch 68/100, Training Loss: 41.2677, Validation Loss: 0.0097\n",
      "Epoch 69/100, Training Loss: 41.2452, Validation Loss: 0.0098\n",
      "Epoch 70/100, Training Loss: 40.7307, Validation Loss: 0.0102\n",
      "Epoch 71/100, Training Loss: 40.6969, Validation Loss: 0.0099\n",
      "Epoch 72/100, Training Loss: 41.0958, Validation Loss: 0.0098\n",
      "Epoch 73/100, Training Loss: 40.8189, Validation Loss: 0.0093\n",
      "Epoch 74/100, Training Loss: 40.4819, Validation Loss: 0.0098\n",
      "Epoch 75/100, Training Loss: 39.7882, Validation Loss: 0.0093\n",
      "Epoch 76/100, Training Loss: 39.3380, Validation Loss: 0.0107\n",
      "Epoch 77/100, Training Loss: 39.2639, Validation Loss: 0.0110\n",
      "Epoch 78/100, Training Loss: 39.2367, Validation Loss: 0.0110\n",
      "Epoch 79/100, Training Loss: 39.4492, Validation Loss: 0.0114\n",
      "Epoch 80/100, Training Loss: 39.3155, Validation Loss: 0.0115\n",
      "Epoch 81/100, Training Loss: 39.3158, Validation Loss: 0.0109\n",
      "Epoch 82/100, Training Loss: 39.2839, Validation Loss: 0.0111\n",
      "Epoch 83/100, Training Loss: 38.7545, Validation Loss: 0.0113\n",
      "Epoch 84/100, Training Loss: 38.8034, Validation Loss: 0.0114\n",
      "Epoch 85/100, Training Loss: 38.4741, Validation Loss: 0.0111\n",
      "Epoch 86/100, Training Loss: 38.3275, Validation Loss: 0.0113\n",
      "Epoch 87/100, Training Loss: 38.3828, Validation Loss: 0.0108\n",
      "Epoch 88/100, Training Loss: 38.1914, Validation Loss: 0.0108\n",
      "Epoch 89/100, Training Loss: 38.0235, Validation Loss: 0.0107\n",
      "Epoch 90/100, Training Loss: 38.1483, Validation Loss: 0.0109\n",
      "Epoch 91/100, Training Loss: 38.0092, Validation Loss: 0.0107\n",
      "Epoch 92/100, Training Loss: 37.8776, Validation Loss: 0.0106\n",
      "Epoch 93/100, Training Loss: 37.6067, Validation Loss: 0.0107\n",
      "Epoch 94/100, Training Loss: 37.7820, Validation Loss: 0.0108\n",
      "Epoch 95/100, Training Loss: 37.7680, Validation Loss: 0.0107\n",
      "Epoch 96/100, Training Loss: 37.7412, Validation Loss: 0.0085\n",
      "Epoch 97/100, Training Loss: 37.6000, Validation Loss: 0.0093\n",
      "Epoch 98/100, Training Loss: 36.9417, Validation Loss: 0.0103\n",
      "Epoch 99/100, Training Loss: 37.0096, Validation Loss: 0.0103\n",
      "Epoch 100/100, Training Loss: 36.8838, Validation Loss: 0.0099\n"
     ]
    },
    {
     "data": {
      "image/png": "[encoded data removed]",
      "text/plain": [
       "<Figure size 640x480 with 1 Axes>"
      ]
     },
     "metadata": {},
     "output_type": "display_data"
    }
   ],
   "source": [
    "train_model(model, optimizer, criterion, train_loader, valid_loader, 100)"
   ]
  },
  {
   "cell_type": "code",
   "execution_count": 170,
   "metadata": {},
   "outputs": [
    {
     "name": "stdout",
     "output_type": "stream",
     "text": [
      "Test Loss: 0.0107\n"
     ]
    }
   ],
   "source": [
    "best_model =  LSTMModel_v1(input_size=input_LSTM, hidden_size=32, num_layers=layers, output_size=output_LSTM)\n",
    "best_model.load_state_dict(torch.load('best_model_LSTM.pth'.format(input)))\n",
    "predictions, actuals = test_model(best_model, test_loader, criterion)"
   ]
  },
  {
   "cell_type": "code",
   "execution_count": 171,
   "metadata": {},
   "outputs": [
    {
     "name": "stdout",
     "output_type": "stream",
     "text": [
      "\n",
      "January\n",
      "MAE: 0.06\n",
      "MPE: nan\n",
      "SMAPE: 1.64\n",
      "RMSE: 0.09\n",
      "MAAPE: 0.01\n",
      "\n",
      "February\n",
      "MAE: 0.06\n",
      "MPE: nan\n",
      "SMAPE: 2.06\n",
      "RMSE: 0.09\n",
      "MAAPE: 0.02\n",
      "\n",
      "March\n",
      "MAE: 0.07\n",
      "MPE: nan\n",
      "SMAPE: 2.12\n",
      "RMSE: 0.11\n",
      "MAAPE: 0.02\n",
      "\n",
      "April\n",
      "MAE: 0.07\n",
      "MPE: nan\n",
      "SMAPE: 2.49\n",
      "RMSE: 0.11\n",
      "MAAPE: 0.02\n",
      "\n",
      "May\n",
      "MAE: 0.06\n",
      "MPE: nan\n",
      "SMAPE: 2.13\n",
      "RMSE: 0.10\n",
      "MAAPE: 0.02\n",
      "\n",
      "June\n",
      "MAE: 0.07\n",
      "MPE: nan\n",
      "SMAPE: 2.33\n",
      "RMSE: 0.11\n",
      "MAAPE: 0.02\n",
      "\n",
      "July\n",
      "MAE: 0.07\n",
      "MPE: -inf\n",
      "SMAPE: 1.73\n",
      "RMSE: 0.11\n",
      "MAAPE: 0.02\n",
      "\n",
      "August\n",
      "MAE: 0.07\n",
      "MPE: nan\n",
      "SMAPE: 2.70\n",
      "RMSE: 0.11\n",
      "MAAPE: 0.02\n"
     ]
    },
    {
     "name": "stderr",
     "output_type": "stream",
     "text": [
      "C:\\Users\\gcogoni\\AppData\\Local\\Temp\\ipykernel_17148\\370863151.py:27: RuntimeWarning: divide by zero encountered in divide\n",
      "  mpe = np.mean((y_true - y_pred)/y_true + EPSILON) * 100\n",
      "c:\\Users\\gcogoni\\Documents\\Stage\\Code\\env\\lib\\site-packages\\numpy\\core\\_methods.py:180: RuntimeWarning: invalid value encountered in reduce\n",
      "  ret = umr_sum(arr, axis, dtype, out, keepdims, where=where)\n",
      "C:\\Users\\gcogoni\\AppData\\Local\\Temp\\ipykernel_17148\\370863151.py:27: RuntimeWarning: divide by zero encountered in divide\n",
      "  mpe = np.mean((y_true - y_pred)/y_true + EPSILON) * 100\n",
      "c:\\Users\\gcogoni\\Documents\\Stage\\Code\\env\\lib\\site-packages\\numpy\\core\\_methods.py:180: RuntimeWarning: invalid value encountered in reduce\n",
      "  ret = umr_sum(arr, axis, dtype, out, keepdims, where=where)\n",
      "C:\\Users\\gcogoni\\AppData\\Local\\Temp\\ipykernel_17148\\370863151.py:27: RuntimeWarning: divide by zero encountered in divide\n",
      "  mpe = np.mean((y_true - y_pred)/y_true + EPSILON) * 100\n",
      "c:\\Users\\gcogoni\\Documents\\Stage\\Code\\env\\lib\\site-packages\\numpy\\core\\_methods.py:180: RuntimeWarning: invalid value encountered in reduce\n",
      "  ret = umr_sum(arr, axis, dtype, out, keepdims, where=where)\n",
      "C:\\Users\\gcogoni\\AppData\\Local\\Temp\\ipykernel_17148\\370863151.py:27: RuntimeWarning: divide by zero encountered in divide\n",
      "  mpe = np.mean((y_true - y_pred)/y_true + EPSILON) * 100\n",
      "c:\\Users\\gcogoni\\Documents\\Stage\\Code\\env\\lib\\site-packages\\numpy\\core\\_methods.py:180: RuntimeWarning: invalid value encountered in reduce\n",
      "  ret = umr_sum(arr, axis, dtype, out, keepdims, where=where)\n",
      "C:\\Users\\gcogoni\\AppData\\Local\\Temp\\ipykernel_17148\\370863151.py:27: RuntimeWarning: divide by zero encountered in divide\n",
      "  mpe = np.mean((y_true - y_pred)/y_true + EPSILON) * 100\n",
      "c:\\Users\\gcogoni\\Documents\\Stage\\Code\\env\\lib\\site-packages\\numpy\\core\\_methods.py:180: RuntimeWarning: invalid value encountered in reduce\n",
      "  ret = umr_sum(arr, axis, dtype, out, keepdims, where=where)\n",
      "C:\\Users\\gcogoni\\AppData\\Local\\Temp\\ipykernel_17148\\370863151.py:27: RuntimeWarning: divide by zero encountered in divide\n",
      "  mpe = np.mean((y_true - y_pred)/y_true + EPSILON) * 100\n",
      "c:\\Users\\gcogoni\\Documents\\Stage\\Code\\env\\lib\\site-packages\\numpy\\core\\_methods.py:180: RuntimeWarning: invalid value encountered in reduce\n",
      "  ret = umr_sum(arr, axis, dtype, out, keepdims, where=where)\n",
      "C:\\Users\\gcogoni\\AppData\\Local\\Temp\\ipykernel_17148\\370863151.py:27: RuntimeWarning: divide by zero encountered in divide\n",
      "  mpe = np.mean((y_true - y_pred)/y_true + EPSILON) * 100\n",
      "C:\\Users\\gcogoni\\AppData\\Local\\Temp\\ipykernel_17148\\370863151.py:27: RuntimeWarning: divide by zero encountered in divide\n",
      "  mpe = np.mean((y_true - y_pred)/y_true + EPSILON) * 100\n",
      "c:\\Users\\gcogoni\\Documents\\Stage\\Code\\env\\lib\\site-packages\\numpy\\core\\_methods.py:180: RuntimeWarning: invalid value encountered in reduce\n",
      "  ret = umr_sum(arr, axis, dtype, out, keepdims, where=where)\n"
     ]
    }
   ],
   "source": [
    "result_prediction_by_month(predictions, actuals)"
   ]
  },
  {
   "cell_type": "code",
   "execution_count": null,
   "metadata": {},
   "outputs": [],
   "source": [
    "#result_prediction(predictions, actuals)"
   ]
  }
 ],
 "metadata": {
  "kernelspec": {
   "display_name": "Python 3 (ipykernel)",
   "language": "python",
   "name": "python3"
  },
  "language_info": {
   "codemirror_mode": {
    "name": "ipython",
    "version": 3
   },
   "file_extension": ".py",
   "mimetype": "text/x-python",
   "name": "python",
   "nbconvert_exporter": "python",
   "pygments_lexer": "ipython3",
   "version": "3.10.10"
  }
 },
 "nbformat": 4,
 "nbformat_minor": 2
}
