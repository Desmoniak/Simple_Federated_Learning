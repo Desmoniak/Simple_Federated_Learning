{
 "cells": [
  {
   "cell_type": "markdown",
   "metadata": {},
   "source": [
    "## Import"
   ]
  },
  {
   "cell_type": "code",
   "execution_count": 92,
   "metadata": {
    "scrolled": true
   },
   "outputs": [],
   "source": [
    "import pandas as pd\n",
    "import matplotlib.pyplot as plt\n",
    "import numpy as np\n",
    "from torch.utils.data import Dataset\n",
    "import torch"
   ]
  },
  {
   "cell_type": "code",
   "execution_count": 93,
   "metadata": {},
   "outputs": [],
   "source": [
    "# https://www.kaggle.com/datasets/benhamner/sf-bay-area-bike-share?select=status.csv\n",
    "dataset_station_statut = pd.read_csv(\"../../../Bike_Data/status.csv\")\n",
    "dataset_station = pd.read_csv(\"../../../Bike_Data/station.csv\")"
   ]
  },
  {
   "cell_type": "markdown",
   "metadata": {},
   "source": [
    "## Class TimeSeriesDataset"
   ]
  },
  {
   "cell_type": "code",
   "execution_count": 94,
   "metadata": {},
   "outputs": [],
   "source": [
    "# Define a PyTorch dataset to generate input/target pairs for the LSTM model\n",
    "class TimeSeriesDataset(Dataset):\n",
    "    def __init__(self, data, window_size, stride, target_size=1, drop=None):\n",
    "        self.data = data\n",
    "        self.window_size = window_size\n",
    "        self.stride = stride\n",
    "        self.target_size = target_size\n",
    "        self.drop = drop\n",
    "\n",
    "    def __len__(self):\n",
    "        return len(self.data) - self.window_size\n",
    "\n",
    "    def __getitem__(self, idx):\n",
    "        inputs = self.data[idx:idx+self.window_size]\n",
    "        target = self.data[idx+self.window_size:idx+self.window_size+self.target_size]\n",
    "        if self.drop is not None:\n",
    "            target = np.delete(target, self.drop, axis=1)\n",
    "        return inputs, target"
   ]
  },
  {
   "cell_type": "markdown",
   "metadata": {},
   "source": [
    "## Class LSTM v1"
   ]
  },
  {
   "cell_type": "code",
   "execution_count": 95,
   "metadata": {},
   "outputs": [],
   "source": [
    "# Define your LSTM model here with num_layers LSTM layers and 1 fully connected layer\n",
    "class LSTMModel_v1(torch.nn.Module):\n",
    "    def __init__(self, input_size, hidden_size, num_layers, output_size):\n",
    "        super().__init__()\n",
    "        self.hidden_size = hidden_size\n",
    "        self.num_layers = num_layers\n",
    "        \n",
    "        self.lstm = torch.nn.LSTM(input_size, self.hidden_size, self.num_layers, batch_first=True)\n",
    "        self.fc = torch.nn.Linear(self.hidden_size, output_size)\n",
    "\n",
    "    def forward(self, x):\n",
    "        out, _ = self.lstm(x)\n",
    "        out = self.fc(out[:, -1, :])\n",
    "        return out"
   ]
  },
  {
   "cell_type": "markdown",
   "metadata": {},
   "source": [
    "## Station statut dataset"
   ]
  },
  {
   "cell_type": "markdown",
   "metadata": {},
   "source": [
    "## Station dataset"
   ]
  },
  {
   "cell_type": "code",
   "execution_count": 96,
   "metadata": {
    "scrolled": true
   },
   "outputs": [
    {
     "data": {
      "text/html": [
       "<div>\n",
       "<style scoped>\n",
       "    .dataframe tbody tr th:only-of-type {\n",
       "        vertical-align: middle;\n",
       "    }\n",
       "\n",
       "    .dataframe tbody tr th {\n",
       "        vertical-align: top;\n",
       "    }\n",
       "\n",
       "    .dataframe thead th {\n",
       "        text-align: right;\n",
       "    }\n",
       "</style>\n",
       "<table border=\"1\" class=\"dataframe\">\n",
       "  <thead>\n",
       "    <tr style=\"text-align: right;\">\n",
       "      <th></th>\n",
       "      <th>id</th>\n",
       "      <th>name</th>\n",
       "      <th>lat</th>\n",
       "      <th>long</th>\n",
       "      <th>dock_count</th>\n",
       "      <th>city</th>\n",
       "      <th>installation_date</th>\n",
       "    </tr>\n",
       "  </thead>\n",
       "  <tbody>\n",
       "    <tr>\n",
       "      <th>0</th>\n",
       "      <td>2</td>\n",
       "      <td>San Jose Diridon Caltrain Station</td>\n",
       "      <td>37.329732</td>\n",
       "      <td>-121.901782</td>\n",
       "      <td>27</td>\n",
       "      <td>San Jose</td>\n",
       "      <td>8/6/2013</td>\n",
       "    </tr>\n",
       "    <tr>\n",
       "      <th>1</th>\n",
       "      <td>3</td>\n",
       "      <td>San Jose Civic Center</td>\n",
       "      <td>37.330698</td>\n",
       "      <td>-121.888979</td>\n",
       "      <td>15</td>\n",
       "      <td>San Jose</td>\n",
       "      <td>8/5/2013</td>\n",
       "    </tr>\n",
       "    <tr>\n",
       "      <th>2</th>\n",
       "      <td>4</td>\n",
       "      <td>Santa Clara at Almaden</td>\n",
       "      <td>37.333988</td>\n",
       "      <td>-121.894902</td>\n",
       "      <td>11</td>\n",
       "      <td>San Jose</td>\n",
       "      <td>8/6/2013</td>\n",
       "    </tr>\n",
       "  </tbody>\n",
       "</table>\n",
       "</div>"
      ],
      "text/plain": [
       "   id                               name        lat        long  dock_count   \n",
       "0   2  San Jose Diridon Caltrain Station  37.329732 -121.901782          27  \\\n",
       "1   3              San Jose Civic Center  37.330698 -121.888979          15   \n",
       "2   4             Santa Clara at Almaden  37.333988 -121.894902          11   \n",
       "\n",
       "       city installation_date  \n",
       "0  San Jose          8/6/2013  \n",
       "1  San Jose          8/5/2013  \n",
       "2  San Jose          8/6/2013  "
      ]
     },
     "execution_count": 96,
     "metadata": {},
     "output_type": "execute_result"
    }
   ],
   "source": [
    "dataset_station.head(3)"
   ]
  },
  {
   "cell_type": "code",
   "execution_count": 97,
   "metadata": {},
   "outputs": [
    {
     "data": {
      "text/plain": [
       "(70, 7)"
      ]
     },
     "execution_count": 97,
     "metadata": {},
     "output_type": "execute_result"
    }
   ],
   "source": [
    "dataset_station.shape"
   ]
  },
  {
   "cell_type": "markdown",
   "metadata": {},
   "source": [
    "## Merge dataset Station statut and Station"
   ]
  },
  {
   "cell_type": "code",
   "execution_count": 98,
   "metadata": {},
   "outputs": [],
   "source": [
    "dataset = pd.merge(dataset_station, dataset_station_statut, left_on='id', right_on='station_id')"
   ]
  },
  {
   "cell_type": "code",
   "execution_count": 99,
   "metadata": {},
   "outputs": [
    {
     "data": {
      "text/html": [
       "<div>\n",
       "<style scoped>\n",
       "    .dataframe tbody tr th:only-of-type {\n",
       "        vertical-align: middle;\n",
       "    }\n",
       "\n",
       "    .dataframe tbody tr th {\n",
       "        vertical-align: top;\n",
       "    }\n",
       "\n",
       "    .dataframe thead th {\n",
       "        text-align: right;\n",
       "    }\n",
       "</style>\n",
       "<table border=\"1\" class=\"dataframe\">\n",
       "  <thead>\n",
       "    <tr style=\"text-align: right;\">\n",
       "      <th></th>\n",
       "      <th>id</th>\n",
       "      <th>name</th>\n",
       "      <th>lat</th>\n",
       "      <th>long</th>\n",
       "      <th>dock_count</th>\n",
       "      <th>city</th>\n",
       "      <th>installation_date</th>\n",
       "      <th>station_id</th>\n",
       "      <th>bikes_available</th>\n",
       "      <th>docks_available</th>\n",
       "      <th>time</th>\n",
       "    </tr>\n",
       "  </thead>\n",
       "  <tbody>\n",
       "    <tr>\n",
       "      <th>0</th>\n",
       "      <td>2</td>\n",
       "      <td>San Jose Diridon Caltrain Station</td>\n",
       "      <td>37.329732</td>\n",
       "      <td>-121.901782</td>\n",
       "      <td>27</td>\n",
       "      <td>San Jose</td>\n",
       "      <td>8/6/2013</td>\n",
       "      <td>2</td>\n",
       "      <td>2</td>\n",
       "      <td>25</td>\n",
       "      <td>2013/08/29 12:06:01</td>\n",
       "    </tr>\n",
       "    <tr>\n",
       "      <th>1</th>\n",
       "      <td>2</td>\n",
       "      <td>San Jose Diridon Caltrain Station</td>\n",
       "      <td>37.329732</td>\n",
       "      <td>-121.901782</td>\n",
       "      <td>27</td>\n",
       "      <td>San Jose</td>\n",
       "      <td>8/6/2013</td>\n",
       "      <td>2</td>\n",
       "      <td>2</td>\n",
       "      <td>25</td>\n",
       "      <td>2013/08/29 12:07:01</td>\n",
       "    </tr>\n",
       "    <tr>\n",
       "      <th>2</th>\n",
       "      <td>2</td>\n",
       "      <td>San Jose Diridon Caltrain Station</td>\n",
       "      <td>37.329732</td>\n",
       "      <td>-121.901782</td>\n",
       "      <td>27</td>\n",
       "      <td>San Jose</td>\n",
       "      <td>8/6/2013</td>\n",
       "      <td>2</td>\n",
       "      <td>2</td>\n",
       "      <td>25</td>\n",
       "      <td>2013/08/29 12:08:01</td>\n",
       "    </tr>\n",
       "  </tbody>\n",
       "</table>\n",
       "</div>"
      ],
      "text/plain": [
       "   id                               name        lat        long  dock_count   \n",
       "0   2  San Jose Diridon Caltrain Station  37.329732 -121.901782          27  \\\n",
       "1   2  San Jose Diridon Caltrain Station  37.329732 -121.901782          27   \n",
       "2   2  San Jose Diridon Caltrain Station  37.329732 -121.901782          27   \n",
       "\n",
       "       city installation_date  station_id  bikes_available  docks_available   \n",
       "0  San Jose          8/6/2013           2                2               25  \\\n",
       "1  San Jose          8/6/2013           2                2               25   \n",
       "2  San Jose          8/6/2013           2                2               25   \n",
       "\n",
       "                  time  \n",
       "0  2013/08/29 12:06:01  \n",
       "1  2013/08/29 12:07:01  \n",
       "2  2013/08/29 12:08:01  "
      ]
     },
     "execution_count": 99,
     "metadata": {},
     "output_type": "execute_result"
    }
   ],
   "source": [
    "dataset.head(3)"
   ]
  },
  {
   "cell_type": "code",
   "execution_count": 100,
   "metadata": {},
   "outputs": [
    {
     "data": {
      "text/plain": [
       "(71984434, 11)"
      ]
     },
     "execution_count": 100,
     "metadata": {},
     "output_type": "execute_result"
    }
   ],
   "source": [
    "dataset.shape"
   ]
  },
  {
   "attachments": {},
   "cell_type": "markdown",
   "metadata": {},
   "source": [
    "# 1/ (Mulivariate) Selection three station to make prediction"
   ]
  },
  {
   "cell_type": "markdown",
   "metadata": {},
   "source": [
    "### All id station available"
   ]
  },
  {
   "cell_type": "code",
   "execution_count": 101,
   "metadata": {},
   "outputs": [
    {
     "name": "stdout",
     "output_type": "stream",
     "text": [
      "[ 2  3  4  5  6  7  8  9 10 11 12 13 14 16 21 22 23 24 25 26 27 28 29 30\n",
      " 31 32 33 34 35 36 37 38 41 42 45 46 47 48 49 50 51 39 54 55 56 57 58 59\n",
      " 60 61 62 63 64 65 66 67 68 69 70 71 72 73 74 75 76 77 80 82 83 84]\n",
      "70\n"
     ]
    }
   ],
   "source": [
    "print(dataset['id'].unique())\n",
    "print(len(dataset['id'].unique()))"
   ]
  },
  {
   "cell_type": "code",
   "execution_count": 102,
   "metadata": {},
   "outputs": [],
   "source": [
    "dataset_station_id = dataset.loc[dataset['id'].isin([42, 70, 60])]"
   ]
  },
  {
   "cell_type": "code",
   "execution_count": 103,
   "metadata": {},
   "outputs": [
    {
     "name": "stdout",
     "output_type": "stream",
     "text": [
      "[15 19]\n"
     ]
    }
   ],
   "source": [
    "dock_count = dataset_station_id['dock_count'].unique()\n",
    "print(dock_count)"
   ]
  },
  {
   "cell_type": "code",
   "execution_count": 104,
   "metadata": {},
   "outputs": [
    {
     "data": {
      "text/plain": [
       "(3141422, 11)"
      ]
     },
     "execution_count": 104,
     "metadata": {},
     "output_type": "execute_result"
    }
   ],
   "source": [
    "dataset_station_id.shape"
   ]
  },
  {
   "cell_type": "code",
   "execution_count": 105,
   "metadata": {},
   "outputs": [
    {
     "data": {
      "text/html": [
       "<div>\n",
       "<style scoped>\n",
       "    .dataframe tbody tr th:only-of-type {\n",
       "        vertical-align: middle;\n",
       "    }\n",
       "\n",
       "    .dataframe tbody tr th {\n",
       "        vertical-align: top;\n",
       "    }\n",
       "\n",
       "    .dataframe thead th {\n",
       "        text-align: right;\n",
       "    }\n",
       "</style>\n",
       "<table border=\"1\" class=\"dataframe\">\n",
       "  <thead>\n",
       "    <tr style=\"text-align: right;\">\n",
       "      <th></th>\n",
       "      <th>id</th>\n",
       "      <th>name</th>\n",
       "      <th>lat</th>\n",
       "      <th>long</th>\n",
       "      <th>dock_count</th>\n",
       "      <th>city</th>\n",
       "      <th>installation_date</th>\n",
       "      <th>station_id</th>\n",
       "      <th>bikes_available</th>\n",
       "      <th>docks_available</th>\n",
       "      <th>time</th>\n",
       "    </tr>\n",
       "  </thead>\n",
       "  <tbody>\n",
       "    <tr>\n",
       "      <th>34204912</th>\n",
       "      <td>42</td>\n",
       "      <td>Davis at Jackson</td>\n",
       "      <td>37.79728</td>\n",
       "      <td>-122.398436</td>\n",
       "      <td>15</td>\n",
       "      <td>San Francisco</td>\n",
       "      <td>8/19/2013</td>\n",
       "      <td>42</td>\n",
       "      <td>7</td>\n",
       "      <td>8</td>\n",
       "      <td>2013/08/29 12:06:01</td>\n",
       "    </tr>\n",
       "    <tr>\n",
       "      <th>34204913</th>\n",
       "      <td>42</td>\n",
       "      <td>Davis at Jackson</td>\n",
       "      <td>37.79728</td>\n",
       "      <td>-122.398436</td>\n",
       "      <td>15</td>\n",
       "      <td>San Francisco</td>\n",
       "      <td>8/19/2013</td>\n",
       "      <td>42</td>\n",
       "      <td>7</td>\n",
       "      <td>8</td>\n",
       "      <td>2013/08/29 12:07:01</td>\n",
       "    </tr>\n",
       "    <tr>\n",
       "      <th>34204914</th>\n",
       "      <td>42</td>\n",
       "      <td>Davis at Jackson</td>\n",
       "      <td>37.79728</td>\n",
       "      <td>-122.398436</td>\n",
       "      <td>15</td>\n",
       "      <td>San Francisco</td>\n",
       "      <td>8/19/2013</td>\n",
       "      <td>42</td>\n",
       "      <td>7</td>\n",
       "      <td>8</td>\n",
       "      <td>2013/08/29 12:08:01</td>\n",
       "    </tr>\n",
       "  </tbody>\n",
       "</table>\n",
       "</div>"
      ],
      "text/plain": [
       "          id              name       lat        long  dock_count   \n",
       "34204912  42  Davis at Jackson  37.79728 -122.398436          15  \\\n",
       "34204913  42  Davis at Jackson  37.79728 -122.398436          15   \n",
       "34204914  42  Davis at Jackson  37.79728 -122.398436          15   \n",
       "\n",
       "                   city installation_date  station_id  bikes_available   \n",
       "34204912  San Francisco         8/19/2013          42                7  \\\n",
       "34204913  San Francisco         8/19/2013          42                7   \n",
       "34204914  San Francisco         8/19/2013          42                7   \n",
       "\n",
       "          docks_available                 time  \n",
       "34204912                8  2013/08/29 12:06:01  \n",
       "34204913                8  2013/08/29 12:07:01  \n",
       "34204914                8  2013/08/29 12:08:01  "
      ]
     },
     "execution_count": 105,
     "metadata": {},
     "output_type": "execute_result"
    }
   ],
   "source": [
    "dataset_station_id.head(3)"
   ]
  },
  {
   "cell_type": "code",
   "execution_count": 106,
   "metadata": {},
   "outputs": [
    {
     "data": {
      "text/html": [
       "<div>\n",
       "<style scoped>\n",
       "    .dataframe tbody tr th:only-of-type {\n",
       "        vertical-align: middle;\n",
       "    }\n",
       "\n",
       "    .dataframe tbody tr th {\n",
       "        vertical-align: top;\n",
       "    }\n",
       "\n",
       "    .dataframe thead th {\n",
       "        text-align: right;\n",
       "    }\n",
       "</style>\n",
       "<table border=\"1\" class=\"dataframe\">\n",
       "  <thead>\n",
       "    <tr style=\"text-align: right;\">\n",
       "      <th></th>\n",
       "      <th>id</th>\n",
       "      <th>name</th>\n",
       "      <th>lat</th>\n",
       "      <th>long</th>\n",
       "      <th>dock_count</th>\n",
       "      <th>city</th>\n",
       "      <th>installation_date</th>\n",
       "      <th>station_id</th>\n",
       "      <th>bikes_available</th>\n",
       "      <th>docks_available</th>\n",
       "      <th>time</th>\n",
       "    </tr>\n",
       "  </thead>\n",
       "  <tbody>\n",
       "    <tr>\n",
       "      <th>61417384</th>\n",
       "      <td>70</td>\n",
       "      <td>San Francisco Caltrain (Townsend at 4th)</td>\n",
       "      <td>37.776617</td>\n",
       "      <td>-122.39526</td>\n",
       "      <td>19</td>\n",
       "      <td>San Francisco</td>\n",
       "      <td>8/23/2013</td>\n",
       "      <td>70</td>\n",
       "      <td>15</td>\n",
       "      <td>4</td>\n",
       "      <td>2015-08-31 23:55:02</td>\n",
       "    </tr>\n",
       "    <tr>\n",
       "      <th>61417385</th>\n",
       "      <td>70</td>\n",
       "      <td>San Francisco Caltrain (Townsend at 4th)</td>\n",
       "      <td>37.776617</td>\n",
       "      <td>-122.39526</td>\n",
       "      <td>19</td>\n",
       "      <td>San Francisco</td>\n",
       "      <td>8/23/2013</td>\n",
       "      <td>70</td>\n",
       "      <td>15</td>\n",
       "      <td>4</td>\n",
       "      <td>2015-08-31 23:56:01</td>\n",
       "    </tr>\n",
       "    <tr>\n",
       "      <th>61417386</th>\n",
       "      <td>70</td>\n",
       "      <td>San Francisco Caltrain (Townsend at 4th)</td>\n",
       "      <td>37.776617</td>\n",
       "      <td>-122.39526</td>\n",
       "      <td>19</td>\n",
       "      <td>San Francisco</td>\n",
       "      <td>8/23/2013</td>\n",
       "      <td>70</td>\n",
       "      <td>15</td>\n",
       "      <td>4</td>\n",
       "      <td>2015-08-31 23:57:02</td>\n",
       "    </tr>\n",
       "    <tr>\n",
       "      <th>61417387</th>\n",
       "      <td>70</td>\n",
       "      <td>San Francisco Caltrain (Townsend at 4th)</td>\n",
       "      <td>37.776617</td>\n",
       "      <td>-122.39526</td>\n",
       "      <td>19</td>\n",
       "      <td>San Francisco</td>\n",
       "      <td>8/23/2013</td>\n",
       "      <td>70</td>\n",
       "      <td>15</td>\n",
       "      <td>4</td>\n",
       "      <td>2015-08-31 23:58:02</td>\n",
       "    </tr>\n",
       "    <tr>\n",
       "      <th>61417388</th>\n",
       "      <td>70</td>\n",
       "      <td>San Francisco Caltrain (Townsend at 4th)</td>\n",
       "      <td>37.776617</td>\n",
       "      <td>-122.39526</td>\n",
       "      <td>19</td>\n",
       "      <td>San Francisco</td>\n",
       "      <td>8/23/2013</td>\n",
       "      <td>70</td>\n",
       "      <td>15</td>\n",
       "      <td>4</td>\n",
       "      <td>2015-08-31 23:59:02</td>\n",
       "    </tr>\n",
       "  </tbody>\n",
       "</table>\n",
       "</div>"
      ],
      "text/plain": [
       "          id                                      name        lat       long   \n",
       "61417384  70  San Francisco Caltrain (Townsend at 4th)  37.776617 -122.39526  \\\n",
       "61417385  70  San Francisco Caltrain (Townsend at 4th)  37.776617 -122.39526   \n",
       "61417386  70  San Francisco Caltrain (Townsend at 4th)  37.776617 -122.39526   \n",
       "61417387  70  San Francisco Caltrain (Townsend at 4th)  37.776617 -122.39526   \n",
       "61417388  70  San Francisco Caltrain (Townsend at 4th)  37.776617 -122.39526   \n",
       "\n",
       "          dock_count           city installation_date  station_id   \n",
       "61417384          19  San Francisco         8/23/2013          70  \\\n",
       "61417385          19  San Francisco         8/23/2013          70   \n",
       "61417386          19  San Francisco         8/23/2013          70   \n",
       "61417387          19  San Francisco         8/23/2013          70   \n",
       "61417388          19  San Francisco         8/23/2013          70   \n",
       "\n",
       "          bikes_available  docks_available                 time  \n",
       "61417384               15                4  2015-08-31 23:55:02  \n",
       "61417385               15                4  2015-08-31 23:56:01  \n",
       "61417386               15                4  2015-08-31 23:57:02  \n",
       "61417387               15                4  2015-08-31 23:58:02  \n",
       "61417388               15                4  2015-08-31 23:59:02  "
      ]
     },
     "execution_count": 106,
     "metadata": {},
     "output_type": "execute_result"
    }
   ],
   "source": [
    "dataset_station_id.tail(5)"
   ]
  },
  {
   "cell_type": "markdown",
   "metadata": {},
   "source": [
    "### Drop columns"
   ]
  },
  {
   "cell_type": "code",
   "execution_count": 107,
   "metadata": {},
   "outputs": [],
   "source": [
    "dataset_station_id_transform = dataset_station_id.drop([\"name\", 'lat', 'long', 'id', 'city', 'installation_date', \"docks_available\", \"dock_count\"], axis=1)"
   ]
  },
  {
   "cell_type": "code",
   "execution_count": 108,
   "metadata": {},
   "outputs": [
    {
     "data": {
      "text/html": [
       "<div>\n",
       "<style scoped>\n",
       "    .dataframe tbody tr th:only-of-type {\n",
       "        vertical-align: middle;\n",
       "    }\n",
       "\n",
       "    .dataframe tbody tr th {\n",
       "        vertical-align: top;\n",
       "    }\n",
       "\n",
       "    .dataframe thead th {\n",
       "        text-align: right;\n",
       "    }\n",
       "</style>\n",
       "<table border=\"1\" class=\"dataframe\">\n",
       "  <thead>\n",
       "    <tr style=\"text-align: right;\">\n",
       "      <th></th>\n",
       "      <th>station_id</th>\n",
       "      <th>bikes_available</th>\n",
       "      <th>time</th>\n",
       "    </tr>\n",
       "  </thead>\n",
       "  <tbody>\n",
       "    <tr>\n",
       "      <th>34204912</th>\n",
       "      <td>42</td>\n",
       "      <td>7</td>\n",
       "      <td>2013/08/29 12:06:01</td>\n",
       "    </tr>\n",
       "    <tr>\n",
       "      <th>34204913</th>\n",
       "      <td>42</td>\n",
       "      <td>7</td>\n",
       "      <td>2013/08/29 12:07:01</td>\n",
       "    </tr>\n",
       "    <tr>\n",
       "      <th>34204914</th>\n",
       "      <td>42</td>\n",
       "      <td>7</td>\n",
       "      <td>2013/08/29 12:08:01</td>\n",
       "    </tr>\n",
       "  </tbody>\n",
       "</table>\n",
       "</div>"
      ],
      "text/plain": [
       "          station_id  bikes_available                 time\n",
       "34204912          42                7  2013/08/29 12:06:01\n",
       "34204913          42                7  2013/08/29 12:07:01\n",
       "34204914          42                7  2013/08/29 12:08:01"
      ]
     },
     "execution_count": 108,
     "metadata": {},
     "output_type": "execute_result"
    }
   ],
   "source": [
    "dataset_station_id_transform.head(3)"
   ]
  },
  {
   "cell_type": "markdown",
   "metadata": {},
   "source": [
    "### Check presence of null and NaN values"
   ]
  },
  {
   "cell_type": "code",
   "execution_count": 109,
   "metadata": {},
   "outputs": [
    {
     "data": {
      "text/plain": [
       "station_id         0\n",
       "bikes_available    0\n",
       "time               0\n",
       "dtype: int64"
      ]
     },
     "execution_count": 109,
     "metadata": {},
     "output_type": "execute_result"
    }
   ],
   "source": [
    "dataset_station_id_transform.isna().sum()"
   ]
  },
  {
   "cell_type": "code",
   "execution_count": 110,
   "metadata": {},
   "outputs": [
    {
     "data": {
      "text/html": [
       "<div>\n",
       "<style scoped>\n",
       "    .dataframe tbody tr th:only-of-type {\n",
       "        vertical-align: middle;\n",
       "    }\n",
       "\n",
       "    .dataframe tbody tr th {\n",
       "        vertical-align: top;\n",
       "    }\n",
       "\n",
       "    .dataframe thead th {\n",
       "        text-align: right;\n",
       "    }\n",
       "</style>\n",
       "<table border=\"1\" class=\"dataframe\">\n",
       "  <thead>\n",
       "    <tr style=\"text-align: right;\">\n",
       "      <th></th>\n",
       "      <th>station_id</th>\n",
       "      <th>bikes_available</th>\n",
       "      <th>time</th>\n",
       "    </tr>\n",
       "  </thead>\n",
       "  <tbody>\n",
       "  </tbody>\n",
       "</table>\n",
       "</div>"
      ],
      "text/plain": [
       "Empty DataFrame\n",
       "Columns: [station_id, bikes_available, time]\n",
       "Index: []"
      ]
     },
     "execution_count": 110,
     "metadata": {},
     "output_type": "execute_result"
    }
   ],
   "source": [
    "dataset_station_id_transform[dataset_station_id_transform.isna().any(axis=1)]"
   ]
  },
  {
   "cell_type": "code",
   "execution_count": 111,
   "metadata": {},
   "outputs": [
    {
     "data": {
      "text/plain": [
       "station_id          int64\n",
       "bikes_available     int64\n",
       "time               object\n",
       "dtype: object"
      ]
     },
     "execution_count": 111,
     "metadata": {},
     "output_type": "execute_result"
    }
   ],
   "source": [
    "dataset_station_id_transform.dtypes"
   ]
  },
  {
   "cell_type": "markdown",
   "metadata": {},
   "source": [
    "### Conversion column time to datetime"
   ]
  },
  {
   "cell_type": "code",
   "execution_count": 112,
   "metadata": {},
   "outputs": [],
   "source": [
    "dataset_station_id_transform['time'] = pd.to_datetime(dataset_station_id_transform['time'], format=\"mixed\")"
   ]
  },
  {
   "cell_type": "code",
   "execution_count": 113,
   "metadata": {
    "scrolled": false
   },
   "outputs": [
    {
     "data": {
      "text/plain": [
       "station_id                  int64\n",
       "bikes_available             int64\n",
       "time               datetime64[ns]\n",
       "dtype: object"
      ]
     },
     "execution_count": 113,
     "metadata": {},
     "output_type": "execute_result"
    }
   ],
   "source": [
    "dataset_station_id_transform.dtypes"
   ]
  },
  {
   "cell_type": "code",
   "execution_count": 114,
   "metadata": {},
   "outputs": [
    {
     "data": {
      "text/html": [
       "<div>\n",
       "<style scoped>\n",
       "    .dataframe tbody tr th:only-of-type {\n",
       "        vertical-align: middle;\n",
       "    }\n",
       "\n",
       "    .dataframe tbody tr th {\n",
       "        vertical-align: top;\n",
       "    }\n",
       "\n",
       "    .dataframe thead th {\n",
       "        text-align: right;\n",
       "    }\n",
       "</style>\n",
       "<table border=\"1\" class=\"dataframe\">\n",
       "  <thead>\n",
       "    <tr style=\"text-align: right;\">\n",
       "      <th></th>\n",
       "      <th>station_id</th>\n",
       "      <th>bikes_available</th>\n",
       "      <th>time</th>\n",
       "    </tr>\n",
       "  </thead>\n",
       "  <tbody>\n",
       "    <tr>\n",
       "      <th>34204912</th>\n",
       "      <td>42</td>\n",
       "      <td>7</td>\n",
       "      <td>2013-08-29 12:06:01</td>\n",
       "    </tr>\n",
       "    <tr>\n",
       "      <th>34204913</th>\n",
       "      <td>42</td>\n",
       "      <td>7</td>\n",
       "      <td>2013-08-29 12:07:01</td>\n",
       "    </tr>\n",
       "    <tr>\n",
       "      <th>34204914</th>\n",
       "      <td>42</td>\n",
       "      <td>7</td>\n",
       "      <td>2013-08-29 12:08:01</td>\n",
       "    </tr>\n",
       "    <tr>\n",
       "      <th>34204915</th>\n",
       "      <td>42</td>\n",
       "      <td>7</td>\n",
       "      <td>2013-08-29 12:09:01</td>\n",
       "    </tr>\n",
       "    <tr>\n",
       "      <th>34204916</th>\n",
       "      <td>42</td>\n",
       "      <td>7</td>\n",
       "      <td>2013-08-29 12:10:01</td>\n",
       "    </tr>\n",
       "    <tr>\n",
       "      <th>34204917</th>\n",
       "      <td>42</td>\n",
       "      <td>7</td>\n",
       "      <td>2013-08-29 12:11:01</td>\n",
       "    </tr>\n",
       "    <tr>\n",
       "      <th>34204918</th>\n",
       "      <td>42</td>\n",
       "      <td>7</td>\n",
       "      <td>2013-08-29 12:12:01</td>\n",
       "    </tr>\n",
       "    <tr>\n",
       "      <th>34204919</th>\n",
       "      <td>42</td>\n",
       "      <td>7</td>\n",
       "      <td>2013-08-29 12:13:01</td>\n",
       "    </tr>\n",
       "    <tr>\n",
       "      <th>34204920</th>\n",
       "      <td>42</td>\n",
       "      <td>7</td>\n",
       "      <td>2013-08-29 12:15:01</td>\n",
       "    </tr>\n",
       "    <tr>\n",
       "      <th>34204921</th>\n",
       "      <td>42</td>\n",
       "      <td>7</td>\n",
       "      <td>2013-08-29 12:16:02</td>\n",
       "    </tr>\n",
       "  </tbody>\n",
       "</table>\n",
       "</div>"
      ],
      "text/plain": [
       "          station_id  bikes_available                time\n",
       "34204912          42                7 2013-08-29 12:06:01\n",
       "34204913          42                7 2013-08-29 12:07:01\n",
       "34204914          42                7 2013-08-29 12:08:01\n",
       "34204915          42                7 2013-08-29 12:09:01\n",
       "34204916          42                7 2013-08-29 12:10:01\n",
       "34204917          42                7 2013-08-29 12:11:01\n",
       "34204918          42                7 2013-08-29 12:12:01\n",
       "34204919          42                7 2013-08-29 12:13:01\n",
       "34204920          42                7 2013-08-29 12:15:01\n",
       "34204921          42                7 2013-08-29 12:16:02"
      ]
     },
     "execution_count": 114,
     "metadata": {},
     "output_type": "execute_result"
    }
   ],
   "source": [
    "dataset_station_id_transform.head(10)"
   ]
  },
  {
   "cell_type": "code",
   "execution_count": 115,
   "metadata": {},
   "outputs": [
    {
     "data": {
      "text/html": [
       "<div>\n",
       "<style scoped>\n",
       "    .dataframe tbody tr th:only-of-type {\n",
       "        vertical-align: middle;\n",
       "    }\n",
       "\n",
       "    .dataframe tbody tr th {\n",
       "        vertical-align: top;\n",
       "    }\n",
       "\n",
       "    .dataframe thead th {\n",
       "        text-align: right;\n",
       "    }\n",
       "</style>\n",
       "<table border=\"1\" class=\"dataframe\">\n",
       "  <thead>\n",
       "    <tr style=\"text-align: right;\">\n",
       "      <th></th>\n",
       "      <th>station_id</th>\n",
       "      <th>bikes_available</th>\n",
       "      <th>time</th>\n",
       "    </tr>\n",
       "  </thead>\n",
       "  <tbody>\n",
       "    <tr>\n",
       "      <th>61417379</th>\n",
       "      <td>70</td>\n",
       "      <td>15</td>\n",
       "      <td>2015-08-31 23:50:02</td>\n",
       "    </tr>\n",
       "    <tr>\n",
       "      <th>61417380</th>\n",
       "      <td>70</td>\n",
       "      <td>15</td>\n",
       "      <td>2015-08-31 23:51:02</td>\n",
       "    </tr>\n",
       "    <tr>\n",
       "      <th>61417381</th>\n",
       "      <td>70</td>\n",
       "      <td>15</td>\n",
       "      <td>2015-08-31 23:52:02</td>\n",
       "    </tr>\n",
       "    <tr>\n",
       "      <th>61417382</th>\n",
       "      <td>70</td>\n",
       "      <td>15</td>\n",
       "      <td>2015-08-31 23:53:03</td>\n",
       "    </tr>\n",
       "    <tr>\n",
       "      <th>61417383</th>\n",
       "      <td>70</td>\n",
       "      <td>15</td>\n",
       "      <td>2015-08-31 23:54:02</td>\n",
       "    </tr>\n",
       "    <tr>\n",
       "      <th>61417384</th>\n",
       "      <td>70</td>\n",
       "      <td>15</td>\n",
       "      <td>2015-08-31 23:55:02</td>\n",
       "    </tr>\n",
       "    <tr>\n",
       "      <th>61417385</th>\n",
       "      <td>70</td>\n",
       "      <td>15</td>\n",
       "      <td>2015-08-31 23:56:01</td>\n",
       "    </tr>\n",
       "    <tr>\n",
       "      <th>61417386</th>\n",
       "      <td>70</td>\n",
       "      <td>15</td>\n",
       "      <td>2015-08-31 23:57:02</td>\n",
       "    </tr>\n",
       "    <tr>\n",
       "      <th>61417387</th>\n",
       "      <td>70</td>\n",
       "      <td>15</td>\n",
       "      <td>2015-08-31 23:58:02</td>\n",
       "    </tr>\n",
       "    <tr>\n",
       "      <th>61417388</th>\n",
       "      <td>70</td>\n",
       "      <td>15</td>\n",
       "      <td>2015-08-31 23:59:02</td>\n",
       "    </tr>\n",
       "  </tbody>\n",
       "</table>\n",
       "</div>"
      ],
      "text/plain": [
       "          station_id  bikes_available                time\n",
       "61417379          70               15 2015-08-31 23:50:02\n",
       "61417380          70               15 2015-08-31 23:51:02\n",
       "61417381          70               15 2015-08-31 23:52:02\n",
       "61417382          70               15 2015-08-31 23:53:03\n",
       "61417383          70               15 2015-08-31 23:54:02\n",
       "61417384          70               15 2015-08-31 23:55:02\n",
       "61417385          70               15 2015-08-31 23:56:01\n",
       "61417386          70               15 2015-08-31 23:57:02\n",
       "61417387          70               15 2015-08-31 23:58:02\n",
       "61417388          70               15 2015-08-31 23:59:02"
      ]
     },
     "execution_count": 115,
     "metadata": {},
     "output_type": "execute_result"
    }
   ],
   "source": [
    "dataset_station_id_transform.tail(10)"
   ]
  },
  {
   "cell_type": "markdown",
   "metadata": {},
   "source": [
    "### Train Function"
   ]
  },
  {
   "cell_type": "code",
   "execution_count": 116,
   "metadata": {},
   "outputs": [],
   "source": [
    "def plot_loss_valid(valid_losses):\n",
    "    plt.plot(valid_losses, label = 'Val Loss')\n",
    "    plt.xlabel('Epochs')\n",
    "    plt.ylabel('Loss')\n",
    "    plt.title('Validation Loss')\n",
    "    plt.show()"
   ]
  },
  {
   "cell_type": "code",
   "execution_count": 117,
   "metadata": {},
   "outputs": [],
   "source": [
    "# Train your model and evaluate on the validation set\n",
    "def train_model(model, optimizer, criterion, train_loader, valid_loader, num_epochs):\n",
    "    num_epochs = num_epochs\n",
    "    best_val_loss = float('inf')\n",
    "    train_losses = []\n",
    "    valid_losses = []\n",
    "    for epoch in range(num_epochs):\n",
    "        train_loss = 0.0\n",
    "\n",
    "        for inputs, targets in train_loader:\n",
    "            optimizer.zero_grad()\n",
    "            outputs = model(inputs.float())\n",
    "            loss = criterion(outputs, targets.squeeze(dim=(1)).float())\n",
    "            loss.backward()\n",
    "            optimizer.step()\n",
    "            train_loss += loss.item()\n",
    "            train_losses.append(loss.item())\n",
    "        val_loss = 0.0\n",
    "    \n",
    "        for inputs, targets in valid_loader:\n",
    "            outputs = model(inputs.float())\n",
    "            loss = criterion(outputs, targets.squeeze(dim=(1)).float())\n",
    "            val_loss += loss.item()\n",
    "        \n",
    "        val_loss /= len(valid_loader)\n",
    "        valid_losses.append(val_loss)\n",
    "\n",
    "        if val_loss < best_val_loss:\n",
    "            best_val_loss = val_loss\n",
    "            torch.save(model.state_dict(), 'best_model_LSTM.pth')\n",
    "    \n",
    "        print(f'Epoch {epoch+1}/{num_epochs}, Training Loss: {train_loss:.4f}, Validation Loss: {val_loss:.4f}')\n",
    "        \n",
    "    plot_loss_valid(valid_losses)\n",
    "    \n",
    "    "
   ]
  },
  {
   "cell_type": "markdown",
   "metadata": {},
   "source": [
    "### Test Function"
   ]
  },
  {
   "cell_type": "code",
   "execution_count": 143,
   "metadata": {},
   "outputs": [],
   "source": [
    "def test_model(best_model, test_loader, criterion):\n",
    "    # Load the best model and evaluate on the test set\n",
    "    best_model.double()\n",
    "    best_model.eval()\n",
    "\n",
    "    # Evaluate the model on the test set\n",
    "    test_loss = 0.0\n",
    "    predictions = []\n",
    "    actuals = []\n",
    "    with torch.no_grad():\n",
    "        for inputs, targets in test_loader:\n",
    "            inputs = inputs.to(device)\n",
    "            targets = targets.to(device)\n",
    "            outputs = best_model(inputs)\n",
    "            loss = criterion(outputs, targets.squeeze(dim=(1)))\n",
    "            test_loss += loss.item()\n",
    "            # Save the predictions and actual values for plotting later\n",
    "            predictions.append(outputs.cpu().numpy())\n",
    "            actuals.append(targets.squeeze(dim=(1)).cpu().numpy())\n",
    "    test_loss /= len(test_loader)\n",
    "    print(f\"Test Loss: {test_loss:.4f}\")\n",
    "    # Concatenate the predictions and actuals\n",
    "    predictions = np.concatenate(predictions, axis=0)\n",
    "    actuals = np.concatenate(actuals, axis=0)\n",
    "\n",
    "    return (predictions, actuals)"
   ]
  },
  {
   "cell_type": "markdown",
   "metadata": {},
   "source": [
    "### Print Metrics for each month Function"
   ]
  },
  {
   "cell_type": "code",
   "execution_count": 119,
   "metadata": {},
   "outputs": [],
   "source": [
    "import numpy as np\n",
    "from sklearn.metrics import mean_absolute_error, mean_squared_error, mean_absolute_percentage_error\n",
    "\n",
    "def result_prediction_by_month(predictions, actuals):\n",
    "    indices_by_month = []\n",
    "    EPSILON = 1e-10\n",
    "    for i in range(1): \n",
    "        grouped_data = test_data.groupby(pd.Grouper(freq='M'))\n",
    "        for name , group in grouped_data:\n",
    "            indices = np.where(test_data.index.isin(group.index))[0]\n",
    "            indices_by_month.append((name.strftime('%B'), indices))\n",
    "            \n",
    "        for name, indice in indices_by_month :\n",
    "            y_pred = predictions[indice-window_size,i]\n",
    "            y_true = actuals[indice-window_size,i]\n",
    "            \n",
    "            mae = mean_absolute_error(y_true, y_pred)\n",
    "            mape = mean_absolute_percentage_error(y_true, y_pred)\n",
    "            rmse = np.sqrt(mean_squared_error(y_true, y_pred))\n",
    "            maape =  np.mean(np.arctan(np.abs((y_true - y_pred) / (y_true + EPSILON))))\n",
    "            # Add evaluation metrics to the plot\n",
    "            print(f'\\n{name}')\n",
    "            print(f'MAE: {mae:.2f}')\n",
    "            print(f'MAPE: {mape:.2f}')\n",
    "            print(f'RMSE: {rmse:.2f}')\n",
    "            print(f'MAAPE: {maape:.2f}')"
   ]
  },
  {
   "cell_type": "markdown",
   "metadata": {},
   "source": [
    "### Print Plot to see accuracy and some Metrics Function"
   ]
  },
  {
   "cell_type": "code",
   "execution_count": 120,
   "metadata": {},
   "outputs": [],
   "source": [
    "import numpy as np\n",
    "from sklearn.metrics import mean_absolute_error, mean_squared_error, mean_absolute_percentage_error\n",
    "\n",
    "def result_prediction(predictions, actuals):\n",
    "    EPSILON = 1e-10\n",
    "    for i in range(3): \n",
    "        print(f'Station {pivoted_df_station_id.columns[i]}')\n",
    "        for y in range(0, len(test_data), 8):\n",
    "            debut = y\n",
    "            fin = min(y + 8, len(test_data))    \n",
    "            y_pred = predictions[debut:fin,i]\n",
    "            y_true = actuals[debut:fin,i]\n",
    "            \n",
    "            mae = mean_absolute_error(y_true, y_pred)\n",
    "            mape = mean_absolute_percentage_error(y_true, y_pred)\n",
    "            rmse = np.sqrt(mean_squared_error(y_true, y_pred))\n",
    "            maape =  np.mean(np.arctan(np.abs((y_true - y_pred) / (y_true + EPSILON))))\n",
    "            \n",
    "            # evaluation metrics\n",
    "            print(f'MAE: {mae:.2f}')\n",
    "            print(f'MAPE: {mape:.2f}')\n",
    "            print(f'RMSE: {rmse:.2f}')\n",
    "            print(f'MAAPE: {maape:.2f}')"
   ]
  },
  {
   "cell_type": "markdown",
   "metadata": {},
   "source": [
    "## Trying to forecast the availability of bikes "
   ]
  },
  {
   "cell_type": "markdown",
   "metadata": {},
   "source": [
    "### First Experimentation group by day and hour "
   ]
  },
  {
   "attachments": {},
   "cell_type": "markdown",
   "metadata": {},
   "source": [
    "#### Use 7 hour to predict the 8th hour"
   ]
  },
  {
   "cell_type": "code",
   "execution_count": 121,
   "metadata": {},
   "outputs": [],
   "source": [
    "import numpy as np\n",
    "import torch\n",
    "from torch.utils.data import Dataset, DataLoader\n",
    "device = torch.device('cuda' if torch.cuda.is_available() else 'cpu')"
   ]
  },
  {
   "cell_type": "code",
   "execution_count": 122,
   "metadata": {},
   "outputs": [],
   "source": [
    "pivoted_df_station_id = dataset_station_id_transform.pivot_table(index='time', columns='station_id', values='bikes_available')"
   ]
  },
  {
   "cell_type": "code",
   "execution_count": 123,
   "metadata": {},
   "outputs": [
    {
     "data": {
      "text/html": [
       "<div>\n",
       "<style scoped>\n",
       "    .dataframe tbody tr th:only-of-type {\n",
       "        vertical-align: middle;\n",
       "    }\n",
       "\n",
       "    .dataframe tbody tr th {\n",
       "        vertical-align: top;\n",
       "    }\n",
       "\n",
       "    .dataframe thead th {\n",
       "        text-align: right;\n",
       "    }\n",
       "</style>\n",
       "<table border=\"1\" class=\"dataframe\">\n",
       "  <thead>\n",
       "    <tr style=\"text-align: right;\">\n",
       "      <th>station_id</th>\n",
       "      <th>42</th>\n",
       "      <th>60</th>\n",
       "      <th>70</th>\n",
       "    </tr>\n",
       "    <tr>\n",
       "      <th>time</th>\n",
       "      <th></th>\n",
       "      <th></th>\n",
       "      <th></th>\n",
       "    </tr>\n",
       "  </thead>\n",
       "  <tbody>\n",
       "    <tr>\n",
       "      <th>2013-08-29 12:06:01</th>\n",
       "      <td>7.0</td>\n",
       "      <td>8.0</td>\n",
       "      <td>0.0</td>\n",
       "    </tr>\n",
       "    <tr>\n",
       "      <th>2013-08-29 12:07:01</th>\n",
       "      <td>7.0</td>\n",
       "      <td>8.0</td>\n",
       "      <td>0.0</td>\n",
       "    </tr>\n",
       "  </tbody>\n",
       "</table>\n",
       "</div>"
      ],
      "text/plain": [
       "station_id            42   60   70\n",
       "time                              \n",
       "2013-08-29 12:06:01  7.0  8.0  0.0\n",
       "2013-08-29 12:07:01  7.0  8.0  0.0"
      ]
     },
     "execution_count": 123,
     "metadata": {},
     "output_type": "execute_result"
    }
   ],
   "source": [
    "pivoted_df_station_id.head(2)"
   ]
  },
  {
   "cell_type": "code",
   "execution_count": 124,
   "metadata": {},
   "outputs": [],
   "source": [
    "df_weekday_hour = pivoted_df_station_id.groupby(pd.Grouper(freq='H'), dropna=True).mean()"
   ]
  },
  {
   "cell_type": "code",
   "execution_count": 125,
   "metadata": {},
   "outputs": [
    {
     "data": {
      "text/plain": [
       "50"
      ]
     },
     "execution_count": 125,
     "metadata": {},
     "output_type": "execute_result"
    }
   ],
   "source": [
    "len(df_weekday_hour[df_weekday_hour.isna().any(axis=1)])"
   ]
  },
  {
   "cell_type": "code",
   "execution_count": 126,
   "metadata": {},
   "outputs": [],
   "source": [
    "df_weekday_hour = df_weekday_hour.dropna()"
   ]
  },
  {
   "cell_type": "code",
   "execution_count": 127,
   "metadata": {},
   "outputs": [
    {
     "data": {
      "text/plain": [
       "0"
      ]
     },
     "execution_count": 127,
     "metadata": {},
     "output_type": "execute_result"
    }
   ],
   "source": [
    "len(df_weekday_hour[df_weekday_hour.isna().any(axis=1)])"
   ]
  },
  {
   "cell_type": "code",
   "execution_count": 128,
   "metadata": {},
   "outputs": [],
   "source": [
    "df_weekday_hour_prep = df_weekday_hour.copy()"
   ]
  },
  {
   "cell_type": "code",
   "execution_count": 129,
   "metadata": {},
   "outputs": [
    {
     "data": {
      "text/html": [
       "<div>\n",
       "<style scoped>\n",
       "    .dataframe tbody tr th:only-of-type {\n",
       "        vertical-align: middle;\n",
       "    }\n",
       "\n",
       "    .dataframe tbody tr th {\n",
       "        vertical-align: top;\n",
       "    }\n",
       "\n",
       "    .dataframe thead th {\n",
       "        text-align: right;\n",
       "    }\n",
       "</style>\n",
       "<table border=\"1\" class=\"dataframe\">\n",
       "  <thead>\n",
       "    <tr style=\"text-align: right;\">\n",
       "      <th>station_id</th>\n",
       "      <th>42</th>\n",
       "      <th>60</th>\n",
       "      <th>70</th>\n",
       "    </tr>\n",
       "    <tr>\n",
       "      <th>time</th>\n",
       "      <th></th>\n",
       "      <th></th>\n",
       "      <th></th>\n",
       "    </tr>\n",
       "  </thead>\n",
       "  <tbody>\n",
       "    <tr>\n",
       "      <th>2013-08-29 12:00:00</th>\n",
       "      <td>6.458333</td>\n",
       "      <td>10.250000</td>\n",
       "      <td>1.395833</td>\n",
       "    </tr>\n",
       "    <tr>\n",
       "      <th>2013-08-29 13:00:00</th>\n",
       "      <td>6.754717</td>\n",
       "      <td>11.566038</td>\n",
       "      <td>3.094340</td>\n",
       "    </tr>\n",
       "    <tr>\n",
       "      <th>2013-08-29 14:00:00</th>\n",
       "      <td>7.250000</td>\n",
       "      <td>12.125000</td>\n",
       "      <td>4.625000</td>\n",
       "    </tr>\n",
       "  </tbody>\n",
       "</table>\n",
       "</div>"
      ],
      "text/plain": [
       "station_id                 42         60        70\n",
       "time                                              \n",
       "2013-08-29 12:00:00  6.458333  10.250000  1.395833\n",
       "2013-08-29 13:00:00  6.754717  11.566038  3.094340\n",
       "2013-08-29 14:00:00  7.250000  12.125000  4.625000"
      ]
     },
     "execution_count": 129,
     "metadata": {},
     "output_type": "execute_result"
    }
   ],
   "source": [
    "df_weekday_hour_prep.head(3)"
   ]
  },
  {
   "cell_type": "code",
   "execution_count": 130,
   "metadata": {},
   "outputs": [
    {
     "data": {
      "text/html": [
       "<div>\n",
       "<style scoped>\n",
       "    .dataframe tbody tr th:only-of-type {\n",
       "        vertical-align: middle;\n",
       "    }\n",
       "\n",
       "    .dataframe tbody tr th {\n",
       "        vertical-align: top;\n",
       "    }\n",
       "\n",
       "    .dataframe thead th {\n",
       "        text-align: right;\n",
       "    }\n",
       "</style>\n",
       "<table border=\"1\" class=\"dataframe\">\n",
       "  <thead>\n",
       "    <tr style=\"text-align: right;\">\n",
       "      <th>station_id</th>\n",
       "      <th>42</th>\n",
       "      <th>60</th>\n",
       "      <th>70</th>\n",
       "    </tr>\n",
       "    <tr>\n",
       "      <th>time</th>\n",
       "      <th></th>\n",
       "      <th></th>\n",
       "      <th></th>\n",
       "    </tr>\n",
       "  </thead>\n",
       "  <tbody>\n",
       "  </tbody>\n",
       "</table>\n",
       "</div>"
      ],
      "text/plain": [
       "Empty DataFrame\n",
       "Columns: [42, 60, 70]\n",
       "Index: []"
      ]
     },
     "execution_count": 130,
     "metadata": {},
     "output_type": "execute_result"
    }
   ],
   "source": [
    "df_weekday_hour_prep[df_weekday_hour_prep.isna().any(axis=1)]"
   ]
  },
  {
   "cell_type": "code",
   "execution_count": 131,
   "metadata": {},
   "outputs": [],
   "source": [
    "train_data = df_weekday_hour_prep[:'2014-11-01 12:00:00']\n",
    "valid_data = df_weekday_hour_prep['2014-11-01 12:00:00':'2015-01-01 12:00:00']\n",
    "test_data = df_weekday_hour_prep['2015-01-01 12:00:00':'2015-08-31 13:00:00']"
   ]
  },
  {
   "attachments": {},
   "cell_type": "markdown",
   "metadata": {},
   "source": [
    "##### f(a(t), b(t), c(t)) = a(t+1), b(t+1) + c(t+1)"
   ]
  },
  {
   "cell_type": "code",
   "execution_count": 138,
   "metadata": {},
   "outputs": [],
   "source": [
    "# Define the sliding window size and stride\n",
    "window_size = 7\n",
    "stride = 1\n",
    "\n",
    "# Create datasets and data loaders for training, validation, and test sets\n",
    "train_dataset = TimeSeriesDataset(train_data.values, window_size, stride)\n",
    "valid_dataset = TimeSeriesDataset(valid_data.values, window_size, stride)\n",
    "test_dataset = TimeSeriesDataset(test_data.values, window_size, stride)\n",
    "\n",
    "train_loader = DataLoader(train_dataset, batch_size=32, shuffle=False)\n",
    "valid_loader = DataLoader(valid_dataset, batch_size=32, shuffle=False)\n",
    "test_loader = DataLoader(test_dataset, batch_size=32, shuffle=False)"
   ]
  },
  {
   "cell_type": "code",
   "execution_count": 133,
   "metadata": {},
   "outputs": [],
   "source": [
    "# Parameters of the LSTM\n",
    "layers = 3\n",
    "hidden_size = 32\n",
    "input_LSTM = 3\n",
    "output_LSTM = 3\n",
    "\n",
    "# Instantiate your LSTM model and define the loss function and optimizer\n",
    "model = LSTMModel_v1(input_size=input_LSTM, hidden_size=hidden_size, num_layers=layers, output_size=output_LSTM)\n",
    "criterion = torch.nn.MSELoss()\n",
    "optimizer = torch.optim.Adam(model.parameters(), lr=0.001)"
   ]
  },
  {
   "cell_type": "code",
   "execution_count": 134,
   "metadata": {},
   "outputs": [
    {
     "name": "stdout",
     "output_type": "stream",
     "text": [
      "Epoch 1/200, Training Loss: 10211.8965, Validation Loss: 12.2440\n",
      "Epoch 2/200, Training Loss: 4449.1611, Validation Loss: 11.7220\n",
      "Epoch 3/200, Training Loss: 4428.7235, Validation Loss: 11.7149\n",
      "Epoch 4/200, Training Loss: 4429.1623, Validation Loss: 11.7146\n",
      "Epoch 5/200, Training Loss: 4429.1436, Validation Loss: 11.7124\n",
      "Epoch 6/200, Training Loss: 4045.1559, Validation Loss: 9.1044\n",
      "Epoch 7/200, Training Loss: 3102.1317, Validation Loss: 8.1851\n",
      "Epoch 8/200, Training Loss: 2764.0973, Validation Loss: 7.6424\n",
      "Epoch 9/200, Training Loss: 2435.2260, Validation Loss: 6.3840\n",
      "Epoch 10/200, Training Loss: 2128.1523, Validation Loss: 5.7119\n",
      "Epoch 11/200, Training Loss: 1965.1217, Validation Loss: 5.3894\n",
      "Epoch 12/200, Training Loss: 1862.8805, Validation Loss: 5.1563\n",
      "Epoch 13/200, Training Loss: 1774.1321, Validation Loss: 4.8768\n",
      "Epoch 14/200, Training Loss: 1566.1513, Validation Loss: 4.1280\n",
      "Epoch 15/200, Training Loss: 1359.3707, Validation Loss: 3.7434\n",
      "Epoch 16/200, Training Loss: 1219.9650, Validation Loss: 3.5530\n",
      "Epoch 17/200, Training Loss: 1134.9429, Validation Loss: 3.4296\n",
      "Epoch 18/200, Training Loss: 1087.1595, Validation Loss: 3.3534\n",
      "Epoch 19/200, Training Loss: 1060.0485, Validation Loss: 3.2935\n",
      "Epoch 20/200, Training Loss: 1042.5505, Validation Loss: 3.2538\n",
      "Epoch 21/200, Training Loss: 1029.6866, Validation Loss: 3.2193\n",
      "Epoch 22/200, Training Loss: 1019.6900, Validation Loss: 3.1933\n",
      "Epoch 23/200, Training Loss: 1011.5112, Validation Loss: 3.1754\n",
      "Epoch 24/200, Training Loss: 1004.5608, Validation Loss: 3.1628\n",
      "Epoch 25/200, Training Loss: 998.4529, Validation Loss: 3.1535\n",
      "Epoch 26/200, Training Loss: 992.9240, Validation Loss: 3.1472\n",
      "Epoch 27/200, Training Loss: 987.8362, Validation Loss: 3.1435\n",
      "Epoch 28/200, Training Loss: 983.2031, Validation Loss: 3.1403\n",
      "Epoch 29/200, Training Loss: 978.8351, Validation Loss: 3.1367\n",
      "Epoch 30/200, Training Loss: 974.8404, Validation Loss: 3.1336\n",
      "Epoch 31/200, Training Loss: 970.3973, Validation Loss: 3.1298\n",
      "Epoch 32/200, Training Loss: 966.3567, Validation Loss: 3.1252\n",
      "Epoch 33/200, Training Loss: 962.4510, Validation Loss: 3.1198\n",
      "Epoch 34/200, Training Loss: 958.6429, Validation Loss: 3.1151\n",
      "Epoch 35/200, Training Loss: 954.8860, Validation Loss: 3.1116\n",
      "Epoch 36/200, Training Loss: 951.2864, Validation Loss: 3.1059\n",
      "Epoch 37/200, Training Loss: 947.6483, Validation Loss: 3.1009\n",
      "Epoch 38/200, Training Loss: 944.0462, Validation Loss: 3.0965\n",
      "Epoch 39/200, Training Loss: 940.4415, Validation Loss: 3.0890\n",
      "Epoch 40/200, Training Loss: 936.8312, Validation Loss: 3.0856\n",
      "Epoch 41/200, Training Loss: 933.4440, Validation Loss: 3.0806\n",
      "Epoch 42/200, Training Loss: 929.9563, Validation Loss: 3.0774\n",
      "Epoch 43/200, Training Loss: 926.3436, Validation Loss: 3.0733\n",
      "Epoch 44/200, Training Loss: 922.8251, Validation Loss: 3.0731\n",
      "Epoch 45/200, Training Loss: 919.4831, Validation Loss: 3.0708\n",
      "Epoch 46/200, Training Loss: 916.1369, Validation Loss: 3.0698\n",
      "Epoch 47/200, Training Loss: 912.5662, Validation Loss: 3.0725\n",
      "Epoch 48/200, Training Loss: 910.9969, Validation Loss: 3.0679\n",
      "Epoch 49/200, Training Loss: 906.2774, Validation Loss: 3.0685\n",
      "Epoch 50/200, Training Loss: 902.8774, Validation Loss: 3.0682\n",
      "Epoch 51/200, Training Loss: 899.7257, Validation Loss: 3.0664\n",
      "Epoch 52/200, Training Loss: 896.1359, Validation Loss: 3.0655\n",
      "Epoch 53/200, Training Loss: 892.3793, Validation Loss: 3.0694\n",
      "Epoch 54/200, Training Loss: 890.6701, Validation Loss: 3.0698\n",
      "Epoch 55/200, Training Loss: 885.5782, Validation Loss: 3.0729\n",
      "Epoch 56/200, Training Loss: 881.9111, Validation Loss: 3.0727\n",
      "Epoch 57/200, Training Loss: 879.5403, Validation Loss: 3.0713\n",
      "Epoch 58/200, Training Loss: 876.1061, Validation Loss: 3.0748\n",
      "Epoch 59/200, Training Loss: 872.4801, Validation Loss: 3.0691\n",
      "Epoch 60/200, Training Loss: 868.3554, Validation Loss: 3.0729\n",
      "Epoch 61/200, Training Loss: 866.8174, Validation Loss: 3.0779\n",
      "Epoch 62/200, Training Loss: 864.8572, Validation Loss: 3.0748\n",
      "Epoch 63/200, Training Loss: 859.7383, Validation Loss: 3.0778\n",
      "Epoch 64/200, Training Loss: 855.4020, Validation Loss: 3.0808\n",
      "Epoch 65/200, Training Loss: 851.6240, Validation Loss: 3.0792\n",
      "Epoch 66/200, Training Loss: 848.1053, Validation Loss: 3.0756\n",
      "Epoch 67/200, Training Loss: 845.5600, Validation Loss: 3.0792\n",
      "Epoch 68/200, Training Loss: 840.8283, Validation Loss: 3.0861\n",
      "Epoch 69/200, Training Loss: 837.9040, Validation Loss: 3.0837\n",
      "Epoch 70/200, Training Loss: 833.5294, Validation Loss: 3.0889\n",
      "Epoch 71/200, Training Loss: 829.2246, Validation Loss: 3.0861\n",
      "Epoch 72/200, Training Loss: 825.0008, Validation Loss: 3.0855\n",
      "Epoch 73/200, Training Loss: 821.1634, Validation Loss: 3.0883\n",
      "Epoch 74/200, Training Loss: 817.3230, Validation Loss: 3.0909\n",
      "Epoch 75/200, Training Loss: 813.3812, Validation Loss: 3.0928\n",
      "Epoch 76/200, Training Loss: 809.3349, Validation Loss: 3.0971\n",
      "Epoch 77/200, Training Loss: 805.6190, Validation Loss: 3.0997\n",
      "Epoch 78/200, Training Loss: 801.4513, Validation Loss: 3.1044\n",
      "Epoch 79/200, Training Loss: 797.5477, Validation Loss: 3.1092\n",
      "Epoch 80/200, Training Loss: 793.4451, Validation Loss: 3.1167\n",
      "Epoch 81/200, Training Loss: 789.9723, Validation Loss: 3.1216\n",
      "Epoch 82/200, Training Loss: 786.0995, Validation Loss: 3.1319\n",
      "Epoch 83/200, Training Loss: 782.1468, Validation Loss: 3.1427\n",
      "Epoch 84/200, Training Loss: 778.2971, Validation Loss: 3.1484\n",
      "Epoch 85/200, Training Loss: 774.4778, Validation Loss: 3.1565\n",
      "Epoch 86/200, Training Loss: 771.0391, Validation Loss: 3.1656\n",
      "Epoch 87/200, Training Loss: 767.1450, Validation Loss: 3.1719\n",
      "Epoch 88/200, Training Loss: 762.9634, Validation Loss: 3.1831\n",
      "Epoch 89/200, Training Loss: 759.4009, Validation Loss: 3.1898\n",
      "Epoch 90/200, Training Loss: 754.6229, Validation Loss: 3.1999\n",
      "Epoch 91/200, Training Loss: 750.5407, Validation Loss: 3.2083\n",
      "Epoch 92/200, Training Loss: 746.9866, Validation Loss: 3.2136\n",
      "Epoch 93/200, Training Loss: 743.0919, Validation Loss: 3.2235\n",
      "Epoch 94/200, Training Loss: 739.5492, Validation Loss: 3.2365\n",
      "Epoch 95/200, Training Loss: 735.2644, Validation Loss: 3.2482\n",
      "Epoch 96/200, Training Loss: 731.6423, Validation Loss: 3.2559\n",
      "Epoch 97/200, Training Loss: 727.8079, Validation Loss: 3.2656\n",
      "Epoch 98/200, Training Loss: 724.7943, Validation Loss: 3.2849\n",
      "Epoch 99/200, Training Loss: 721.3941, Validation Loss: 3.2871\n",
      "Epoch 100/200, Training Loss: 718.3716, Validation Loss: 3.2851\n",
      "Epoch 101/200, Training Loss: 714.4247, Validation Loss: 3.2826\n",
      "Epoch 102/200, Training Loss: 710.3558, Validation Loss: 3.2930\n",
      "Epoch 103/200, Training Loss: 707.1630, Validation Loss: 3.3098\n",
      "Epoch 104/200, Training Loss: 703.0473, Validation Loss: 3.3159\n",
      "Epoch 105/200, Training Loss: 699.5531, Validation Loss: 3.3200\n",
      "Epoch 106/200, Training Loss: 696.2483, Validation Loss: 3.3205\n",
      "Epoch 107/200, Training Loss: 693.6554, Validation Loss: 3.3337\n",
      "Epoch 108/200, Training Loss: 691.4670, Validation Loss: 3.3516\n",
      "Epoch 109/200, Training Loss: 689.2281, Validation Loss: 3.3538\n",
      "Epoch 110/200, Training Loss: 685.7578, Validation Loss: 3.3840\n",
      "Epoch 111/200, Training Loss: 683.1820, Validation Loss: 3.3994\n",
      "Epoch 112/200, Training Loss: 680.6717, Validation Loss: 3.4033\n",
      "Epoch 113/200, Training Loss: 677.0749, Validation Loss: 3.4129\n",
      "Epoch 114/200, Training Loss: 679.4348, Validation Loss: 3.3895\n",
      "Epoch 115/200, Training Loss: 672.0912, Validation Loss: 3.4098\n",
      "Epoch 116/200, Training Loss: 669.3349, Validation Loss: 3.4427\n",
      "Epoch 117/200, Training Loss: 665.2541, Validation Loss: 3.4615\n",
      "Epoch 118/200, Training Loss: 664.6399, Validation Loss: 3.4510\n",
      "Epoch 119/200, Training Loss: 659.0714, Validation Loss: 3.4831\n",
      "Epoch 120/200, Training Loss: 655.8824, Validation Loss: 3.4785\n",
      "Epoch 121/200, Training Loss: 653.6319, Validation Loss: 3.4751\n",
      "Epoch 122/200, Training Loss: 651.4668, Validation Loss: 3.4959\n",
      "Epoch 123/200, Training Loss: 648.6845, Validation Loss: 3.4905\n",
      "Epoch 124/200, Training Loss: 646.4986, Validation Loss: 3.5257\n",
      "Epoch 125/200, Training Loss: 643.9535, Validation Loss: 3.5316\n",
      "Epoch 126/200, Training Loss: 645.1018, Validation Loss: 3.5480\n",
      "Epoch 127/200, Training Loss: 642.4838, Validation Loss: 3.5468\n",
      "Epoch 128/200, Training Loss: 636.4231, Validation Loss: 3.5868\n",
      "Epoch 129/200, Training Loss: 631.6690, Validation Loss: 3.6073\n",
      "Epoch 130/200, Training Loss: 631.5589, Validation Loss: 3.6079\n",
      "Epoch 131/200, Training Loss: 626.6707, Validation Loss: 3.6319\n",
      "Epoch 132/200, Training Loss: 623.4294, Validation Loss: 3.6310\n",
      "Epoch 133/200, Training Loss: 619.9086, Validation Loss: 3.5862\n",
      "Epoch 134/200, Training Loss: 615.5833, Validation Loss: 3.6127\n",
      "Epoch 135/200, Training Loss: 609.3372, Validation Loss: 3.6048\n",
      "Epoch 136/200, Training Loss: 606.0415, Validation Loss: 3.6303\n",
      "Epoch 137/200, Training Loss: 602.7057, Validation Loss: 3.6407\n",
      "Epoch 138/200, Training Loss: 600.5882, Validation Loss: 3.6519\n",
      "Epoch 139/200, Training Loss: 595.8917, Validation Loss: 3.6724\n",
      "Epoch 140/200, Training Loss: 593.7841, Validation Loss: 3.6903\n",
      "Epoch 141/200, Training Loss: 592.4595, Validation Loss: 3.6984\n",
      "Epoch 142/200, Training Loss: 586.5888, Validation Loss: 3.7013\n",
      "Epoch 143/200, Training Loss: 587.9183, Validation Loss: 3.7434\n",
      "Epoch 144/200, Training Loss: 583.4440, Validation Loss: 3.7267\n",
      "Epoch 145/200, Training Loss: 578.0769, Validation Loss: 3.7502\n",
      "Epoch 146/200, Training Loss: 576.1766, Validation Loss: 3.7632\n",
      "Epoch 147/200, Training Loss: 574.6579, Validation Loss: 3.7713\n",
      "Epoch 148/200, Training Loss: 573.5241, Validation Loss: 3.7890\n",
      "Epoch 149/200, Training Loss: 573.1375, Validation Loss: 3.8130\n",
      "Epoch 150/200, Training Loss: 568.2053, Validation Loss: 3.8154\n",
      "Epoch 151/200, Training Loss: 565.0741, Validation Loss: 3.7918\n",
      "Epoch 152/200, Training Loss: 567.2554, Validation Loss: 3.8486\n",
      "Epoch 153/200, Training Loss: 563.9043, Validation Loss: 3.7924\n",
      "Epoch 154/200, Training Loss: 559.0403, Validation Loss: 3.7988\n",
      "Epoch 155/200, Training Loss: 557.9658, Validation Loss: 3.7882\n",
      "Epoch 156/200, Training Loss: 557.0449, Validation Loss: 3.8074\n",
      "Epoch 157/200, Training Loss: 551.8147, Validation Loss: 3.8050\n",
      "Epoch 158/200, Training Loss: 552.9591, Validation Loss: 3.8190\n",
      "Epoch 159/200, Training Loss: 550.7455, Validation Loss: 3.8285\n",
      "Epoch 160/200, Training Loss: 550.4928, Validation Loss: 3.8380\n",
      "Epoch 161/200, Training Loss: 545.6410, Validation Loss: 3.8577\n",
      "Epoch 162/200, Training Loss: 544.8166, Validation Loss: 3.8455\n",
      "Epoch 163/200, Training Loss: 546.6067, Validation Loss: 3.8537\n",
      "Epoch 164/200, Training Loss: 549.4875, Validation Loss: 3.8902\n",
      "Epoch 165/200, Training Loss: 539.8990, Validation Loss: 3.8586\n",
      "Epoch 166/200, Training Loss: 534.1396, Validation Loss: 3.8612\n",
      "Epoch 167/200, Training Loss: 533.6104, Validation Loss: 3.8809\n",
      "Epoch 168/200, Training Loss: 531.2319, Validation Loss: 3.9186\n",
      "Epoch 169/200, Training Loss: 528.1263, Validation Loss: 3.9120\n",
      "Epoch 170/200, Training Loss: 528.2855, Validation Loss: 3.9274\n",
      "Epoch 171/200, Training Loss: 527.2552, Validation Loss: 3.9242\n",
      "Epoch 172/200, Training Loss: 521.3885, Validation Loss: 3.9432\n",
      "Epoch 173/200, Training Loss: 525.7960, Validation Loss: 3.9342\n",
      "Epoch 174/200, Training Loss: 529.1796, Validation Loss: 3.9391\n",
      "Epoch 175/200, Training Loss: 523.1082, Validation Loss: 3.9385\n",
      "Epoch 176/200, Training Loss: 531.3201, Validation Loss: 3.9217\n",
      "Epoch 177/200, Training Loss: 517.3116, Validation Loss: 3.9475\n",
      "Epoch 178/200, Training Loss: 517.0940, Validation Loss: 3.9709\n",
      "Epoch 179/200, Training Loss: 517.7647, Validation Loss: 3.9527\n",
      "Epoch 180/200, Training Loss: 514.2727, Validation Loss: 3.9753\n",
      "Epoch 181/200, Training Loss: 515.8831, Validation Loss: 3.9904\n",
      "Epoch 182/200, Training Loss: 522.5388, Validation Loss: 3.9822\n",
      "Epoch 183/200, Training Loss: 518.8922, Validation Loss: 3.9858\n",
      "Epoch 184/200, Training Loss: 511.2915, Validation Loss: 4.0564\n",
      "Epoch 185/200, Training Loss: 509.4783, Validation Loss: 4.0384\n",
      "Epoch 186/200, Training Loss: 506.7530, Validation Loss: 4.0185\n",
      "Epoch 187/200, Training Loss: 505.6905, Validation Loss: 4.0737\n",
      "Epoch 188/200, Training Loss: 506.1423, Validation Loss: 4.0894\n",
      "Epoch 189/200, Training Loss: 501.3020, Validation Loss: 4.0905\n",
      "Epoch 190/200, Training Loss: 498.9982, Validation Loss: 4.0806\n",
      "Epoch 191/200, Training Loss: 500.3186, Validation Loss: 4.0977\n",
      "Epoch 192/200, Training Loss: 496.6184, Validation Loss: 4.1093\n",
      "Epoch 193/200, Training Loss: 501.3848, Validation Loss: 4.1227\n",
      "Epoch 194/200, Training Loss: 503.4969, Validation Loss: 4.1130\n",
      "Epoch 195/200, Training Loss: 496.0044, Validation Loss: 4.1275\n",
      "Epoch 196/200, Training Loss: 503.2140, Validation Loss: 4.0730\n",
      "Epoch 197/200, Training Loss: 497.7685, Validation Loss: 4.1481\n",
      "Epoch 198/200, Training Loss: 496.7515, Validation Loss: 4.1126\n",
      "Epoch 199/200, Training Loss: 489.4751, Validation Loss: 4.1537\n",
      "Epoch 200/200, Training Loss: 497.1791, Validation Loss: 4.1539\n"
     ]
    },
    {
     "data": {
      "image/png": "[encoded data removed]",
      "text/plain": [
       "<Figure size 640x480 with 1 Axes>"
      ]
     },
     "metadata": {},
     "output_type": "display_data"
    }
   ],
   "source": [
    "train_model(model, optimizer, criterion, train_loader, valid_loader, 200)"
   ]
  },
  {
   "cell_type": "code",
   "execution_count": 144,
   "metadata": {},
   "outputs": [
    {
     "name": "stdout",
     "output_type": "stream",
     "text": [
      "Test Loss: 3.2736\n"
     ]
    }
   ],
   "source": [
    "best_model =  LSTMModel_v1(input_size=input_LSTM, hidden_size=32, num_layers=layers, output_size=output_LSTM)\n",
    "best_model.load_state_dict(torch.load('best_model_LSTM.pth'.format(input)))\n",
    "predictions_n_to_n, actuals_n_to_n = test_model(best_model, test_loader, criterion)"
   ]
  },
  {
   "cell_type": "code",
   "execution_count": 145,
   "metadata": {},
   "outputs": [
    {
     "name": "stdout",
     "output_type": "stream",
     "text": [
      "\n",
      "January\n",
      "MAE: 0.81\n",
      "MAPE: 0.21\n",
      "RMSE: 1.18\n",
      "MAAPE: 0.16\n",
      "\n",
      "February\n",
      "MAE: 0.86\n",
      "MAPE: 0.28\n",
      "RMSE: 1.18\n",
      "MAAPE: 0.21\n",
      "\n",
      "March\n",
      "MAE: 0.84\n",
      "MAPE: 0.23\n",
      "RMSE: 1.17\n",
      "MAAPE: 0.17\n",
      "\n",
      "April\n",
      "MAE: 0.83\n",
      "MAPE: 0.32\n",
      "RMSE: 1.17\n",
      "MAAPE: 0.18\n",
      "\n",
      "May\n",
      "MAE: 0.93\n",
      "MAPE: 0.28\n",
      "RMSE: 1.30\n",
      "MAAPE: 0.22\n",
      "\n",
      "June\n",
      "MAE: 0.98\n",
      "MAPE: 0.34\n",
      "RMSE: 1.43\n",
      "MAAPE: 0.20\n",
      "\n",
      "July\n",
      "MAE: 1.04\n",
      "MAPE: 0.24\n",
      "RMSE: 1.53\n",
      "MAAPE: 0.17\n",
      "\n",
      "August\n",
      "MAE: 1.02\n",
      "MAPE: 0.33\n",
      "RMSE: 1.53\n",
      "MAAPE: 0.19\n"
     ]
    }
   ],
   "source": [
    "result_prediction_by_month(predictions_n_to_n, actuals_n_to_n)"
   ]
  },
  {
   "cell_type": "code",
   "execution_count": null,
   "metadata": {},
   "outputs": [],
   "source": [
    "#result_prediction(predictions, actuals)"
   ]
  },
  {
   "attachments": {},
   "cell_type": "markdown",
   "metadata": {},
   "source": [
    "##### f(a(t), b(t), c(t)) = a(t+1)"
   ]
  },
  {
   "cell_type": "code",
   "execution_count": 146,
   "metadata": {},
   "outputs": [
    {
     "data": {
      "text/html": [
       "<div>\n",
       "<style scoped>\n",
       "    .dataframe tbody tr th:only-of-type {\n",
       "        vertical-align: middle;\n",
       "    }\n",
       "\n",
       "    .dataframe tbody tr th {\n",
       "        vertical-align: top;\n",
       "    }\n",
       "\n",
       "    .dataframe thead th {\n",
       "        text-align: right;\n",
       "    }\n",
       "</style>\n",
       "<table border=\"1\" class=\"dataframe\">\n",
       "  <thead>\n",
       "    <tr style=\"text-align: right;\">\n",
       "      <th>station_id</th>\n",
       "      <th>42</th>\n",
       "      <th>60</th>\n",
       "      <th>70</th>\n",
       "    </tr>\n",
       "    <tr>\n",
       "      <th>time</th>\n",
       "      <th></th>\n",
       "      <th></th>\n",
       "      <th></th>\n",
       "    </tr>\n",
       "  </thead>\n",
       "  <tbody>\n",
       "    <tr>\n",
       "      <th>2013-08-29 12:00:00</th>\n",
       "      <td>6.458333</td>\n",
       "      <td>10.250000</td>\n",
       "      <td>1.395833</td>\n",
       "    </tr>\n",
       "    <tr>\n",
       "      <th>2013-08-29 13:00:00</th>\n",
       "      <td>6.754717</td>\n",
       "      <td>11.566038</td>\n",
       "      <td>3.094340</td>\n",
       "    </tr>\n",
       "    <tr>\n",
       "      <th>2013-08-29 14:00:00</th>\n",
       "      <td>7.250000</td>\n",
       "      <td>12.125000</td>\n",
       "      <td>4.625000</td>\n",
       "    </tr>\n",
       "  </tbody>\n",
       "</table>\n",
       "</div>"
      ],
      "text/plain": [
       "station_id                 42         60        70\n",
       "time                                              \n",
       "2013-08-29 12:00:00  6.458333  10.250000  1.395833\n",
       "2013-08-29 13:00:00  6.754717  11.566038  3.094340\n",
       "2013-08-29 14:00:00  7.250000  12.125000  4.625000"
      ]
     },
     "execution_count": 146,
     "metadata": {},
     "output_type": "execute_result"
    }
   ],
   "source": [
    "df_weekday_hour_prep.head(3)"
   ]
  },
  {
   "cell_type": "code",
   "execution_count": 150,
   "metadata": {},
   "outputs": [],
   "source": [
    "# Define the sliding window size and stride\n",
    "window_size = 7\n",
    "stride = 1\n",
    "\n",
    "# Create datasets and data loaders for training, validation, and test sets\n",
    "train_dataset = TimeSeriesDataset(train_data.values, window_size, stride, drop=[1, 2])\n",
    "valid_dataset = TimeSeriesDataset(valid_data.values, window_size, stride, drop=[1, 2])\n",
    "test_dataset = TimeSeriesDataset(test_data.values, window_size, stride, drop=[1, 2])\n",
    "\n",
    "train_loader = DataLoader(train_dataset, batch_size=32, shuffle=False)\n",
    "valid_loader = DataLoader(valid_dataset, batch_size=32, shuffle=False)\n",
    "test_loader = DataLoader(test_dataset, batch_size=32, shuffle=False)"
   ]
  },
  {
   "cell_type": "code",
   "execution_count": 151,
   "metadata": {},
   "outputs": [],
   "source": [
    "# Parameters of the LSTM\n",
    "layers = 3\n",
    "hidden_size = 32\n",
    "input_LSTM = 3\n",
    "output_LSTM = 1\n",
    "\n",
    "# Instantiate your LSTM model and define the loss function and optimizer\n",
    "model = LSTMModel_v1(input_size=input_LSTM, hidden_size=hidden_size, num_layers=layers, output_size=output_LSTM)\n",
    "criterion = torch.nn.MSELoss()\n",
    "optimizer = torch.optim.Adam(model.parameters(), lr=0.001)"
   ]
  },
  {
   "cell_type": "code",
   "execution_count": 153,
   "metadata": {},
   "outputs": [
    {
     "name": "stdout",
     "output_type": "stream",
     "text": [
      "Epoch 1/100, Training Loss: 361.2364, Validation Loss: 1.1356\n",
      "Epoch 2/100, Training Loss: 361.3235, Validation Loss: 1.1409\n",
      "Epoch 3/100, Training Loss: 360.3275, Validation Loss: 1.1627\n",
      "Epoch 4/100, Training Loss: 359.4821, Validation Loss: 1.1472\n",
      "Epoch 5/100, Training Loss: 358.3584, Validation Loss: 1.1479\n",
      "Epoch 6/100, Training Loss: 357.3374, Validation Loss: 1.1494\n",
      "Epoch 7/100, Training Loss: 356.3252, Validation Loss: 1.1531\n",
      "Epoch 8/100, Training Loss: 355.2945, Validation Loss: 1.1585\n",
      "Epoch 9/100, Training Loss: 354.2159, Validation Loss: 1.1650\n",
      "Epoch 10/100, Training Loss: 353.1486, Validation Loss: 1.1727\n",
      "Epoch 11/100, Training Loss: 352.0666, Validation Loss: 1.1789\n",
      "Epoch 12/100, Training Loss: 351.0446, Validation Loss: 1.1855\n",
      "Epoch 13/100, Training Loss: 350.1540, Validation Loss: 1.1878\n",
      "Epoch 14/100, Training Loss: 349.2385, Validation Loss: 1.1925\n",
      "Epoch 15/100, Training Loss: 348.3009, Validation Loss: 1.1945\n",
      "Epoch 16/100, Training Loss: 347.4534, Validation Loss: 1.1979\n",
      "Epoch 17/100, Training Loss: 346.3385, Validation Loss: 1.2013\n",
      "Epoch 18/100, Training Loss: 345.1864, Validation Loss: 1.2061\n",
      "Epoch 19/100, Training Loss: 344.1208, Validation Loss: 1.2085\n",
      "Epoch 20/100, Training Loss: 343.0261, Validation Loss: 1.2121\n",
      "Epoch 21/100, Training Loss: 341.8215, Validation Loss: 1.2161\n",
      "Epoch 22/100, Training Loss: 341.2374, Validation Loss: 1.2174\n",
      "Epoch 23/100, Training Loss: 339.4433, Validation Loss: 1.2271\n",
      "Epoch 24/100, Training Loss: 337.8048, Validation Loss: 1.2281\n",
      "Epoch 25/100, Training Loss: 336.4699, Validation Loss: 1.2306\n",
      "Epoch 26/100, Training Loss: 335.2322, Validation Loss: 1.2321\n",
      "Epoch 27/100, Training Loss: 333.9787, Validation Loss: 1.2330\n",
      "Epoch 28/100, Training Loss: 333.2631, Validation Loss: 1.2220\n",
      "Epoch 29/100, Training Loss: 331.3083, Validation Loss: 1.2362\n",
      "Epoch 30/100, Training Loss: 330.0971, Validation Loss: 1.2385\n",
      "Epoch 31/100, Training Loss: 328.8707, Validation Loss: 1.2424\n",
      "Epoch 32/100, Training Loss: 327.8352, Validation Loss: 1.2496\n",
      "Epoch 33/100, Training Loss: 326.1472, Validation Loss: 1.2497\n",
      "Epoch 34/100, Training Loss: 324.6911, Validation Loss: 1.2496\n",
      "Epoch 35/100, Training Loss: 323.2780, Validation Loss: 1.2492\n",
      "Epoch 36/100, Training Loss: 321.8197, Validation Loss: 1.2455\n",
      "Epoch 37/100, Training Loss: 320.4841, Validation Loss: 1.2485\n",
      "Epoch 38/100, Training Loss: 319.3722, Validation Loss: 1.2362\n",
      "Epoch 39/100, Training Loss: 317.9054, Validation Loss: 1.2508\n",
      "Epoch 40/100, Training Loss: 316.4869, Validation Loss: 1.2525\n",
      "Epoch 41/100, Training Loss: 315.2289, Validation Loss: 1.2525\n",
      "Epoch 42/100, Training Loss: 313.9970, Validation Loss: 1.2570\n",
      "Epoch 43/100, Training Loss: 312.4935, Validation Loss: 1.2585\n",
      "Epoch 44/100, Training Loss: 311.2837, Validation Loss: 1.2585\n",
      "Epoch 45/100, Training Loss: 310.5044, Validation Loss: 1.2589\n",
      "Epoch 46/100, Training Loss: 309.6028, Validation Loss: 1.2578\n",
      "Epoch 47/100, Training Loss: 307.7944, Validation Loss: 1.2597\n",
      "Epoch 48/100, Training Loss: 306.7486, Validation Loss: 1.2602\n",
      "Epoch 49/100, Training Loss: 305.4235, Validation Loss: 1.2604\n",
      "Epoch 50/100, Training Loss: 304.0811, Validation Loss: 1.2615\n",
      "Epoch 51/100, Training Loss: 302.7461, Validation Loss: 1.2631\n",
      "Epoch 52/100, Training Loss: 301.4386, Validation Loss: 1.2651\n",
      "Epoch 53/100, Training Loss: 300.0979, Validation Loss: 1.2658\n",
      "Epoch 54/100, Training Loss: 299.3320, Validation Loss: 1.2646\n",
      "Epoch 55/100, Training Loss: 298.0705, Validation Loss: 1.2658\n",
      "Epoch 56/100, Training Loss: 296.6308, Validation Loss: 1.2643\n",
      "Epoch 57/100, Training Loss: 297.2744, Validation Loss: 1.2704\n",
      "Epoch 58/100, Training Loss: 294.9058, Validation Loss: 1.2657\n",
      "Epoch 59/100, Training Loss: 293.0963, Validation Loss: 1.2578\n",
      "Epoch 60/100, Training Loss: 291.2716, Validation Loss: 1.2637\n",
      "Epoch 61/100, Training Loss: 290.2363, Validation Loss: 1.2648\n",
      "Epoch 62/100, Training Loss: 289.0458, Validation Loss: 1.2682\n",
      "Epoch 63/100, Training Loss: 287.9281, Validation Loss: 1.2691\n",
      "Epoch 64/100, Training Loss: 289.3504, Validation Loss: 1.2557\n",
      "Epoch 65/100, Training Loss: 287.8746, Validation Loss: 1.2615\n",
      "Epoch 66/100, Training Loss: 286.0993, Validation Loss: 1.2609\n",
      "Epoch 67/100, Training Loss: 284.4757, Validation Loss: 1.2700\n",
      "Epoch 68/100, Training Loss: 283.2963, Validation Loss: 1.2729\n",
      "Epoch 69/100, Training Loss: 283.6152, Validation Loss: 1.2593\n",
      "Epoch 70/100, Training Loss: 281.9982, Validation Loss: 1.2712\n",
      "Epoch 71/100, Training Loss: 280.5081, Validation Loss: 1.2617\n",
      "Epoch 72/100, Training Loss: 280.0751, Validation Loss: 1.2820\n",
      "Epoch 73/100, Training Loss: 281.8124, Validation Loss: 1.2774\n",
      "Epoch 74/100, Training Loss: 277.1736, Validation Loss: 1.2714\n",
      "Epoch 75/100, Training Loss: 276.1771, Validation Loss: 1.2678\n",
      "Epoch 76/100, Training Loss: 274.1328, Validation Loss: 1.2701\n",
      "Epoch 77/100, Training Loss: 274.1594, Validation Loss: 1.2590\n",
      "Epoch 78/100, Training Loss: 271.1438, Validation Loss: 1.2836\n",
      "Epoch 79/100, Training Loss: 270.1717, Validation Loss: 1.2652\n",
      "Epoch 80/100, Training Loss: 268.0607, Validation Loss: 1.3004\n",
      "Epoch 81/100, Training Loss: 268.2043, Validation Loss: 1.2723\n",
      "Epoch 82/100, Training Loss: 266.6711, Validation Loss: 1.2878\n",
      "Epoch 83/100, Training Loss: 265.3641, Validation Loss: 1.2947\n",
      "Epoch 84/100, Training Loss: 263.2365, Validation Loss: 1.2868\n",
      "Epoch 85/100, Training Loss: 262.5071, Validation Loss: 1.3135\n",
      "Epoch 86/100, Training Loss: 260.2720, Validation Loss: 1.3335\n",
      "Epoch 87/100, Training Loss: 260.5381, Validation Loss: 1.3062\n",
      "Epoch 88/100, Training Loss: 261.6837, Validation Loss: 1.2861\n",
      "Epoch 89/100, Training Loss: 260.0853, Validation Loss: 1.3132\n",
      "Epoch 90/100, Training Loss: 259.2759, Validation Loss: 1.3105\n",
      "Epoch 91/100, Training Loss: 256.4104, Validation Loss: 1.3164\n",
      "Epoch 92/100, Training Loss: 251.9300, Validation Loss: 1.3062\n",
      "Epoch 93/100, Training Loss: 253.9986, Validation Loss: 1.3235\n",
      "Epoch 94/100, Training Loss: 251.1530, Validation Loss: 1.3335\n",
      "Epoch 95/100, Training Loss: 249.6838, Validation Loss: 1.3364\n",
      "Epoch 96/100, Training Loss: 249.7960, Validation Loss: 1.3607\n",
      "Epoch 97/100, Training Loss: 248.7000, Validation Loss: 1.3426\n",
      "Epoch 98/100, Training Loss: 248.6480, Validation Loss: 1.3216\n",
      "Epoch 99/100, Training Loss: 247.8032, Validation Loss: 1.3549\n",
      "Epoch 100/100, Training Loss: 243.4131, Validation Loss: 1.3641\n"
     ]
    },
    {
     "data": {
      "image/png": "[encoded data removed]",
      "text/plain": [
       "<Figure size 640x480 with 1 Axes>"
      ]
     },
     "metadata": {},
     "output_type": "display_data"
    }
   ],
   "source": [
    "train_model(model, optimizer, criterion, train_loader, valid_loader, 100)"
   ]
  },
  {
   "cell_type": "code",
   "execution_count": 154,
   "metadata": {},
   "outputs": [
    {
     "name": "stdout",
     "output_type": "stream",
     "text": [
      "Test Loss: 1.6803\n"
     ]
    }
   ],
   "source": [
    "best_model =  LSTMModel_v1(input_size=input_LSTM, hidden_size=32, num_layers=layers, output_size=output_LSTM)\n",
    "best_model.load_state_dict(torch.load('best_model_LSTM.pth'.format(input)))\n",
    "predictions, actuals = test_model(best_model, test_loader, criterion)"
   ]
  },
  {
   "cell_type": "code",
   "execution_count": 155,
   "metadata": {},
   "outputs": [
    {
     "name": "stdout",
     "output_type": "stream",
     "text": [
      "\n",
      "January\n",
      "MAE: 0.70\n",
      "MAPE: 0.17\n",
      "RMSE: 1.10\n",
      "MAAPE: 0.14\n",
      "\n",
      "February\n",
      "MAE: 0.71\n",
      "MAPE: 0.22\n",
      "RMSE: 1.11\n",
      "MAAPE: 0.16\n",
      "\n",
      "March\n",
      "MAE: 0.74\n",
      "MAPE: 0.20\n",
      "RMSE: 1.11\n",
      "MAAPE: 0.15\n",
      "\n",
      "April\n",
      "MAE: 0.79\n",
      "MAPE: 0.29\n",
      "RMSE: 1.19\n",
      "MAAPE: 0.17\n",
      "\n",
      "May\n",
      "MAE: 0.84\n",
      "MAPE: 0.24\n",
      "RMSE: 1.27\n",
      "MAAPE: 0.19\n",
      "\n",
      "June\n",
      "MAE: 0.94\n",
      "MAPE: 0.31\n",
      "RMSE: 1.42\n",
      "MAAPE: 0.19\n",
      "\n",
      "July\n",
      "MAE: 0.95\n",
      "MAPE: 0.22\n",
      "RMSE: 1.47\n",
      "MAAPE: 0.15\n",
      "\n",
      "August\n",
      "MAE: 0.97\n",
      "MAPE: 0.28\n",
      "RMSE: 1.53\n",
      "MAAPE: 0.18\n"
     ]
    }
   ],
   "source": [
    "result_prediction_by_month(predictions, actuals)"
   ]
  },
  {
   "cell_type": "code",
   "execution_count": null,
   "metadata": {},
   "outputs": [],
   "source": [
    "#result_prediction(predictions, actuals)"
   ]
  }
 ],
 "metadata": {
  "kernelspec": {
   "display_name": "Python 3 (ipykernel)",
   "language": "python",
   "name": "python3"
  },
  "language_info": {
   "codemirror_mode": {
    "name": "ipython",
    "version": 3
   },
   "file_extension": ".py",
   "mimetype": "text/x-python",
   "name": "python",
   "nbconvert_exporter": "python",
   "pygments_lexer": "ipython3",
   "version": "3.10.10"
  }
 },
 "nbformat": 4,
 "nbformat_minor": 2
}
